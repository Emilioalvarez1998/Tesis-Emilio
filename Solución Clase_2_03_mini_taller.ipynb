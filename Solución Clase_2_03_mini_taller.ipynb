{
  "nbformat": 4,
  "nbformat_minor": 0,
  "metadata": {
    "colab": {
      "provenance": [],
      "include_colab_link": true
    },
    "kernelspec": {
      "name": "ir",
      "display_name": "R"
    }
  },
  "cells": [
    {
      "cell_type": "markdown",
      "metadata": {
        "id": "view-in-github",
        "colab_type": "text"
      },
      "source": [
        "<a href=\"https://colab.research.google.com/github/Emilioalvarez1998/Tesis-Emilio/blob/main/Soluci%C3%B3n%20Clase_2_03_mini_taller.ipynb\" target=\"_parent\"><img src=\"https://colab.research.google.com/assets/colab-badge.svg\" alt=\"Open In Colab\"/></a>"
      ]
    },
    {
      "cell_type": "markdown",
      "metadata": {
        "id": "x-GJ_euMr-qr"
      },
      "source": [
        "#**Mini taller 1**\n",
        "**Autor:** Miguel Jorquera Viguera <br>\n",
        "**E-mail:** majorquev@gmail.com<br>\n",
        "**Ayudante:** Rodrigo Morales<br>\n",
        "**E-mail ayudante:**  rumorale1@gmail.com<br>"
      ]
    },
    {
      "cell_type": "code",
      "source": [],
      "metadata": {
        "id": "QLHYdMp1RJtM"
      },
      "execution_count": null,
      "outputs": []
    },
    {
      "cell_type": "markdown",
      "metadata": {
        "collapsed": true,
        "id": "EZ0yOlnfm5Zb"
      },
      "source": [
        "\n",
        "Los dataframes corresponden a uno de los objetos más utilizados en R para analizar datos tabulares,\n",
        "por lo que se hace necesario en muchos casos realizar consultas a los datos que contiene un dataframe,\n",
        "(filtros, cruces de tablas, creación de columnas, etc). Por ahora veremos una de las formas más \"primitivas\" para la manipulación de un data.frame.\n",
        "\n",
        "Para ello consideremos el siguiente ejercicio.\n",
        "\n",
        "**Paso 1**\n",
        "Mediante la función rnorm(), genere una muestra aleatoria de 100 datos , con media 21 y desviación estándar 8 (más adelante veremos esto con un poco más de detalle), y guárdela en una variable llamada temp.\n",
        "\n"
      ]
    },
    {
      "cell_type": "code",
      "metadata": {
        "trusted": true,
        "id": "9f6cXmN3m5Zc",
        "outputId": "e6419921-7a4f-4f76-e87c-02607c69249e",
        "colab": {
          "base_uri": "https://localhost:8080/",
          "height": 260
        }
      },
      "source": [
        "# 5.3 Mini taller --------\n",
        "# Paso 1\n",
        "temp <- rnorm(n = 100, mean = 21, sd = 8)\n",
        "temp\n"
      ],
      "execution_count": null,
      "outputs": [
        {
          "output_type": "display_data",
          "data": {
            "text/html": [
              "<style>\n",
              ".list-inline {list-style: none; margin:0; padding: 0}\n",
              ".list-inline>li {display: inline-block}\n",
              ".list-inline>li:not(:last-child)::after {content: \"\\00b7\"; padding: 0 .5ex}\n",
              "</style>\n",
              "<ol class=list-inline><li>28.0473979219447</li><li>40.6007489080847</li><li>34.1778698303744</li><li>37.6146941336422</li><li>28.1478006695561</li><li>2.19295450095988</li><li>26.5976221879169</li><li>8.24246445789232</li><li>23.9735648141108</li><li>15.2228810636275</li><li>15.0575190836405</li><li>13.3789737926433</li><li>34.9960263640921</li><li>25.7449677747921</li><li>31.0894745507877</li><li>16.5586641897343</li><li>15.943889243799</li><li>30.1480043202742</li><li>14.2723582907272</li><li>14.7967149388319</li><li>26.1515557790492</li><li>25.2979464478332</li><li>17.9735861468346</li><li>27.3527389057397</li><li>41.1772122110576</li><li>14.252425261178</li><li>14.8027766119877</li><li>13.7855108814617</li><li>17.876140620232</li><li>29.7116497968083</li><li>24.556526963252</li><li>15.9650608645998</li><li>20.5780915449121</li><li>27.742047459394</li><li>16.8914771707423</li><li>19.3099012679735</li><li>27.2428788354161</li><li>28.2849925587212</li><li>37.6079397838501</li><li>14.3585214064946</li><li>11.6465147000481</li><li>27.4363249635653</li><li>13.6465891678667</li><li>14.5485648777624</li><li>11.4347815919524</li><li>15.6972502429871</li><li>26.2071511894617</li><li>21.3313621575981</li><li>8.56145859910327</li><li>25.1764215873971</li><li>14.2573102071502</li><li>20.238034259499</li><li>21.6026397792339</li><li>17.5745339768552</li><li>24.549434438867</li><li>13.9667616510175</li><li>21.657668276317</li><li>33.1893890181651</li><li>14.2308761763363</li><li>14.6386039713871</li><li>21.5165800886131</li><li>17.8327751908711</li><li>30.5057002128044</li><li>26.8261138978349</li><li>15.7180639270166</li><li>15.4685223215065</li><li>36.3793486839586</li><li>20.7681698664106</li><li>33.7810751929382</li><li>19.052157475811</li><li>18.3541587534909</li><li>23.1345088427262</li><li>24.3759694397231</li><li>19.767400196691</li><li>19.3085259438372</li><li>17.5599377234267</li><li>21.3131925089111</li><li>43.3662708993683</li><li>20.5605549660926</li><li>21.975678211684</li><li>19.4590004611896</li><li>17.9490463082087</li><li>27.5436689136507</li><li>10.9672623305815</li><li>21.7261128537755</li><li>27.7711435333199</li><li>18.3802957552293</li><li>18.7463467128986</li><li>22.9746989795573</li><li>23.5281754555667</li><li>-1.23076636814169</li><li>24.8854793421856</li><li>12.7789529176297</li><li>24.8901284763733</li><li>25.3748849180814</li><li>26.7859132907422</li><li>17.6120310412927</li><li>25.7508945927671</li><li>30.380064199775</li><li>18.5026554105248</li></ol>\n"
            ],
            "text/markdown": "1. 28.0473979219447\n2. 40.6007489080847\n3. 34.1778698303744\n4. 37.6146941336422\n5. 28.1478006695561\n6. 2.19295450095988\n7. 26.5976221879169\n8. 8.24246445789232\n9. 23.9735648141108\n10. 15.2228810636275\n11. 15.0575190836405\n12. 13.3789737926433\n13. 34.9960263640921\n14. 25.7449677747921\n15. 31.0894745507877\n16. 16.5586641897343\n17. 15.943889243799\n18. 30.1480043202742\n19. 14.2723582907272\n20. 14.7967149388319\n21. 26.1515557790492\n22. 25.2979464478332\n23. 17.9735861468346\n24. 27.3527389057397\n25. 41.1772122110576\n26. 14.252425261178\n27. 14.8027766119877\n28. 13.7855108814617\n29. 17.876140620232\n30. 29.7116497968083\n31. 24.556526963252\n32. 15.9650608645998\n33. 20.5780915449121\n34. 27.742047459394\n35. 16.8914771707423\n36. 19.3099012679735\n37. 27.2428788354161\n38. 28.2849925587212\n39. 37.6079397838501\n40. 14.3585214064946\n41. 11.6465147000481\n42. 27.4363249635653\n43. 13.6465891678667\n44. 14.5485648777624\n45. 11.4347815919524\n46. 15.6972502429871\n47. 26.2071511894617\n48. 21.3313621575981\n49. 8.56145859910327\n50. 25.1764215873971\n51. 14.2573102071502\n52. 20.238034259499\n53. 21.6026397792339\n54. 17.5745339768552\n55. 24.549434438867\n56. 13.9667616510175\n57. 21.657668276317\n58. 33.1893890181651\n59. 14.2308761763363\n60. 14.6386039713871\n61. 21.5165800886131\n62. 17.8327751908711\n63. 30.5057002128044\n64. 26.8261138978349\n65. 15.7180639270166\n66. 15.4685223215065\n67. 36.3793486839586\n68. 20.7681698664106\n69. 33.7810751929382\n70. 19.052157475811\n71. 18.3541587534909\n72. 23.1345088427262\n73. 24.3759694397231\n74. 19.767400196691\n75. 19.3085259438372\n76. 17.5599377234267\n77. 21.3131925089111\n78. 43.3662708993683\n79. 20.5605549660926\n80. 21.975678211684\n81. 19.4590004611896\n82. 17.9490463082087\n83. 27.5436689136507\n84. 10.9672623305815\n85. 21.7261128537755\n86. 27.7711435333199\n87. 18.3802957552293\n88. 18.7463467128986\n89. 22.9746989795573\n90. 23.5281754555667\n91. -1.23076636814169\n92. 24.8854793421856\n93. 12.7789529176297\n94. 24.8901284763733\n95. 25.3748849180814\n96. 26.7859132907422\n97. 17.6120310412927\n98. 25.7508945927671\n99. 30.380064199775\n100. 18.5026554105248\n\n\n",
            "text/latex": "\\begin{enumerate*}\n\\item 28.0473979219447\n\\item 40.6007489080847\n\\item 34.1778698303744\n\\item 37.6146941336422\n\\item 28.1478006695561\n\\item 2.19295450095988\n\\item 26.5976221879169\n\\item 8.24246445789232\n\\item 23.9735648141108\n\\item 15.2228810636275\n\\item 15.0575190836405\n\\item 13.3789737926433\n\\item 34.9960263640921\n\\item 25.7449677747921\n\\item 31.0894745507877\n\\item 16.5586641897343\n\\item 15.943889243799\n\\item 30.1480043202742\n\\item 14.2723582907272\n\\item 14.7967149388319\n\\item 26.1515557790492\n\\item 25.2979464478332\n\\item 17.9735861468346\n\\item 27.3527389057397\n\\item 41.1772122110576\n\\item 14.252425261178\n\\item 14.8027766119877\n\\item 13.7855108814617\n\\item 17.876140620232\n\\item 29.7116497968083\n\\item 24.556526963252\n\\item 15.9650608645998\n\\item 20.5780915449121\n\\item 27.742047459394\n\\item 16.8914771707423\n\\item 19.3099012679735\n\\item 27.2428788354161\n\\item 28.2849925587212\n\\item 37.6079397838501\n\\item 14.3585214064946\n\\item 11.6465147000481\n\\item 27.4363249635653\n\\item 13.6465891678667\n\\item 14.5485648777624\n\\item 11.4347815919524\n\\item 15.6972502429871\n\\item 26.2071511894617\n\\item 21.3313621575981\n\\item 8.56145859910327\n\\item 25.1764215873971\n\\item 14.2573102071502\n\\item 20.238034259499\n\\item 21.6026397792339\n\\item 17.5745339768552\n\\item 24.549434438867\n\\item 13.9667616510175\n\\item 21.657668276317\n\\item 33.1893890181651\n\\item 14.2308761763363\n\\item 14.6386039713871\n\\item 21.5165800886131\n\\item 17.8327751908711\n\\item 30.5057002128044\n\\item 26.8261138978349\n\\item 15.7180639270166\n\\item 15.4685223215065\n\\item 36.3793486839586\n\\item 20.7681698664106\n\\item 33.7810751929382\n\\item 19.052157475811\n\\item 18.3541587534909\n\\item 23.1345088427262\n\\item 24.3759694397231\n\\item 19.767400196691\n\\item 19.3085259438372\n\\item 17.5599377234267\n\\item 21.3131925089111\n\\item 43.3662708993683\n\\item 20.5605549660926\n\\item 21.975678211684\n\\item 19.4590004611896\n\\item 17.9490463082087\n\\item 27.5436689136507\n\\item 10.9672623305815\n\\item 21.7261128537755\n\\item 27.7711435333199\n\\item 18.3802957552293\n\\item 18.7463467128986\n\\item 22.9746989795573\n\\item 23.5281754555667\n\\item -1.23076636814169\n\\item 24.8854793421856\n\\item 12.7789529176297\n\\item 24.8901284763733\n\\item 25.3748849180814\n\\item 26.7859132907422\n\\item 17.6120310412927\n\\item 25.7508945927671\n\\item 30.380064199775\n\\item 18.5026554105248\n\\end{enumerate*}\n",
            "text/plain": [
              "  [1] 28.047398 40.600749 34.177870 37.614694 28.147801  2.192955 26.597622\n",
              "  [8]  8.242464 23.973565 15.222881 15.057519 13.378974 34.996026 25.744968\n",
              " [15] 31.089475 16.558664 15.943889 30.148004 14.272358 14.796715 26.151556\n",
              " [22] 25.297946 17.973586 27.352739 41.177212 14.252425 14.802777 13.785511\n",
              " [29] 17.876141 29.711650 24.556527 15.965061 20.578092 27.742047 16.891477\n",
              " [36] 19.309901 27.242879 28.284993 37.607940 14.358521 11.646515 27.436325\n",
              " [43] 13.646589 14.548565 11.434782 15.697250 26.207151 21.331362  8.561459\n",
              " [50] 25.176422 14.257310 20.238034 21.602640 17.574534 24.549434 13.966762\n",
              " [57] 21.657668 33.189389 14.230876 14.638604 21.516580 17.832775 30.505700\n",
              " [64] 26.826114 15.718064 15.468522 36.379349 20.768170 33.781075 19.052157\n",
              " [71] 18.354159 23.134509 24.375969 19.767400 19.308526 17.559938 21.313193\n",
              " [78] 43.366271 20.560555 21.975678 19.459000 17.949046 27.543669 10.967262\n",
              " [85] 21.726113 27.771144 18.380296 18.746347 22.974699 23.528175 -1.230766\n",
              " [92] 24.885479 12.778953 24.890128 25.374885 26.785913 17.612031 25.750895\n",
              " [99] 30.380064 18.502655"
            ]
          },
          "metadata": {}
        }
      ]
    },
    {
      "cell_type": "code",
      "metadata": {
        "trusted": true,
        "id": "Y6ILF-Szm5Zg",
        "outputId": "2947e9f2-e390-4744-a00c-48a63c11c558",
        "colab": {
          "base_uri": "https://localhost:8080/",
          "height": 34
        }
      },
      "source": [
        "# Dejar como parámetro el largo del vector temp\n",
        "N <- length(temp)\n",
        "N"
      ],
      "execution_count": null,
      "outputs": [
        {
          "output_type": "display_data",
          "data": {
            "text/html": [
              "100"
            ],
            "text/markdown": "100",
            "text/latex": "100",
            "text/plain": [
              "[1] 100"
            ]
          },
          "metadata": {}
        }
      ]
    },
    {
      "cell_type": "markdown",
      "metadata": {
        "id": "C4MEJWjBm5Zi"
      },
      "source": [
        "**Paso 2**\n",
        "\n",
        "Genere un vector llamado _dia_ del mismo largo que que *temp*, que contenga los días consecutivos de la semana, partiendo del lunes. (utilice la función _rep()_ )"
      ]
    },
    {
      "cell_type": "code",
      "metadata": {
        "trusted": true,
        "id": "1PWK1DPXm5Zj",
        "outputId": "e82a5454-ffc9-4ce4-b9c6-0a7b6475efd4",
        "colab": {
          "base_uri": "https://localhost:8080/",
          "height": 86
        }
      },
      "source": [
        "# Paso 2\n",
        "#dia <- rep(c(\"L\",\"M\",\"W\",\"J\",\"V\",\"S\",\"D\"), 100 ) repite el vector de largo7, 100 veces. Genera un vector resultante de largo 700\n",
        "dia <- rep(c(\"L\",\"M\",\"W\",\"J\",\"V\",\"S\",\"D\"),  length.out = N)\n",
        "dia\n",
        "length(dia)"
      ],
      "execution_count": null,
      "outputs": [
        {
          "output_type": "display_data",
          "data": {
            "text/html": [
              "<style>\n",
              ".list-inline {list-style: none; margin:0; padding: 0}\n",
              ".list-inline>li {display: inline-block}\n",
              ".list-inline>li:not(:last-child)::after {content: \"\\00b7\"; padding: 0 .5ex}\n",
              "</style>\n",
              "<ol class=list-inline><li>'L'</li><li>'M'</li><li>'W'</li><li>'J'</li><li>'V'</li><li>'S'</li><li>'D'</li><li>'L'</li><li>'M'</li><li>'W'</li><li>'J'</li><li>'V'</li><li>'S'</li><li>'D'</li><li>'L'</li><li>'M'</li><li>'W'</li><li>'J'</li><li>'V'</li><li>'S'</li><li>'D'</li><li>'L'</li><li>'M'</li><li>'W'</li><li>'J'</li><li>'V'</li><li>'S'</li><li>'D'</li><li>'L'</li><li>'M'</li><li>'W'</li><li>'J'</li><li>'V'</li><li>'S'</li><li>'D'</li><li>'L'</li><li>'M'</li><li>'W'</li><li>'J'</li><li>'V'</li><li>'S'</li><li>'D'</li><li>'L'</li><li>'M'</li><li>'W'</li><li>'J'</li><li>'V'</li><li>'S'</li><li>'D'</li><li>'L'</li><li>'M'</li><li>'W'</li><li>'J'</li><li>'V'</li><li>'S'</li><li>'D'</li><li>'L'</li><li>'M'</li><li>'W'</li><li>'J'</li><li>'V'</li><li>'S'</li><li>'D'</li><li>'L'</li><li>'M'</li><li>'W'</li><li>'J'</li><li>'V'</li><li>'S'</li><li>'D'</li><li>'L'</li><li>'M'</li><li>'W'</li><li>'J'</li><li>'V'</li><li>'S'</li><li>'D'</li><li>'L'</li><li>'M'</li><li>'W'</li><li>'J'</li><li>'V'</li><li>'S'</li><li>'D'</li><li>'L'</li><li>'M'</li><li>'W'</li><li>'J'</li><li>'V'</li><li>'S'</li><li>'D'</li><li>'L'</li><li>'M'</li><li>'W'</li><li>'J'</li><li>'V'</li><li>'S'</li><li>'D'</li><li>'L'</li><li>'M'</li></ol>\n"
            ],
            "text/markdown": "1. 'L'\n2. 'M'\n3. 'W'\n4. 'J'\n5. 'V'\n6. 'S'\n7. 'D'\n8. 'L'\n9. 'M'\n10. 'W'\n11. 'J'\n12. 'V'\n13. 'S'\n14. 'D'\n15. 'L'\n16. 'M'\n17. 'W'\n18. 'J'\n19. 'V'\n20. 'S'\n21. 'D'\n22. 'L'\n23. 'M'\n24. 'W'\n25. 'J'\n26. 'V'\n27. 'S'\n28. 'D'\n29. 'L'\n30. 'M'\n31. 'W'\n32. 'J'\n33. 'V'\n34. 'S'\n35. 'D'\n36. 'L'\n37. 'M'\n38. 'W'\n39. 'J'\n40. 'V'\n41. 'S'\n42. 'D'\n43. 'L'\n44. 'M'\n45. 'W'\n46. 'J'\n47. 'V'\n48. 'S'\n49. 'D'\n50. 'L'\n51. 'M'\n52. 'W'\n53. 'J'\n54. 'V'\n55. 'S'\n56. 'D'\n57. 'L'\n58. 'M'\n59. 'W'\n60. 'J'\n61. 'V'\n62. 'S'\n63. 'D'\n64. 'L'\n65. 'M'\n66. 'W'\n67. 'J'\n68. 'V'\n69. 'S'\n70. 'D'\n71. 'L'\n72. 'M'\n73. 'W'\n74. 'J'\n75. 'V'\n76. 'S'\n77. 'D'\n78. 'L'\n79. 'M'\n80. 'W'\n81. 'J'\n82. 'V'\n83. 'S'\n84. 'D'\n85. 'L'\n86. 'M'\n87. 'W'\n88. 'J'\n89. 'V'\n90. 'S'\n91. 'D'\n92. 'L'\n93. 'M'\n94. 'W'\n95. 'J'\n96. 'V'\n97. 'S'\n98. 'D'\n99. 'L'\n100. 'M'\n\n\n",
            "text/latex": "\\begin{enumerate*}\n\\item 'L'\n\\item 'M'\n\\item 'W'\n\\item 'J'\n\\item 'V'\n\\item 'S'\n\\item 'D'\n\\item 'L'\n\\item 'M'\n\\item 'W'\n\\item 'J'\n\\item 'V'\n\\item 'S'\n\\item 'D'\n\\item 'L'\n\\item 'M'\n\\item 'W'\n\\item 'J'\n\\item 'V'\n\\item 'S'\n\\item 'D'\n\\item 'L'\n\\item 'M'\n\\item 'W'\n\\item 'J'\n\\item 'V'\n\\item 'S'\n\\item 'D'\n\\item 'L'\n\\item 'M'\n\\item 'W'\n\\item 'J'\n\\item 'V'\n\\item 'S'\n\\item 'D'\n\\item 'L'\n\\item 'M'\n\\item 'W'\n\\item 'J'\n\\item 'V'\n\\item 'S'\n\\item 'D'\n\\item 'L'\n\\item 'M'\n\\item 'W'\n\\item 'J'\n\\item 'V'\n\\item 'S'\n\\item 'D'\n\\item 'L'\n\\item 'M'\n\\item 'W'\n\\item 'J'\n\\item 'V'\n\\item 'S'\n\\item 'D'\n\\item 'L'\n\\item 'M'\n\\item 'W'\n\\item 'J'\n\\item 'V'\n\\item 'S'\n\\item 'D'\n\\item 'L'\n\\item 'M'\n\\item 'W'\n\\item 'J'\n\\item 'V'\n\\item 'S'\n\\item 'D'\n\\item 'L'\n\\item 'M'\n\\item 'W'\n\\item 'J'\n\\item 'V'\n\\item 'S'\n\\item 'D'\n\\item 'L'\n\\item 'M'\n\\item 'W'\n\\item 'J'\n\\item 'V'\n\\item 'S'\n\\item 'D'\n\\item 'L'\n\\item 'M'\n\\item 'W'\n\\item 'J'\n\\item 'V'\n\\item 'S'\n\\item 'D'\n\\item 'L'\n\\item 'M'\n\\item 'W'\n\\item 'J'\n\\item 'V'\n\\item 'S'\n\\item 'D'\n\\item 'L'\n\\item 'M'\n\\end{enumerate*}\n",
            "text/plain": [
              "  [1] \"L\" \"M\" \"W\" \"J\" \"V\" \"S\" \"D\" \"L\" \"M\" \"W\" \"J\" \"V\" \"S\" \"D\" \"L\" \"M\" \"W\" \"J\"\n",
              " [19] \"V\" \"S\" \"D\" \"L\" \"M\" \"W\" \"J\" \"V\" \"S\" \"D\" \"L\" \"M\" \"W\" \"J\" \"V\" \"S\" \"D\" \"L\"\n",
              " [37] \"M\" \"W\" \"J\" \"V\" \"S\" \"D\" \"L\" \"M\" \"W\" \"J\" \"V\" \"S\" \"D\" \"L\" \"M\" \"W\" \"J\" \"V\"\n",
              " [55] \"S\" \"D\" \"L\" \"M\" \"W\" \"J\" \"V\" \"S\" \"D\" \"L\" \"M\" \"W\" \"J\" \"V\" \"S\" \"D\" \"L\" \"M\"\n",
              " [73] \"W\" \"J\" \"V\" \"S\" \"D\" \"L\" \"M\" \"W\" \"J\" \"V\" \"S\" \"D\" \"L\" \"M\" \"W\" \"J\" \"V\" \"S\"\n",
              " [91] \"D\" \"L\" \"M\" \"W\" \"J\" \"V\" \"S\" \"D\" \"L\" \"M\""
            ]
          },
          "metadata": {}
        },
        {
          "output_type": "display_data",
          "data": {
            "text/html": [
              "100"
            ],
            "text/markdown": "100",
            "text/latex": "100",
            "text/plain": [
              "[1] 100"
            ]
          },
          "metadata": {}
        }
      ]
    },
    {
      "cell_type": "markdown",
      "metadata": {
        "id": "n1n3ptOIm5Zm"
      },
      "source": [
        "**Paso 3**\n",
        "\n",
        "Genere un vector llamado _est_, del mismo largo que _temp_, que en el primer tercio contenga el valor \"E1\", en el segundo tercio \"E2\", y en el tercer tercio \"E3\". Por ejemplo, si _temp_ tuviese 10 datos, el vector _est_ se vería como\n",
        "\n",
        "\n",
        "<center> _est_ = (E1,E1,E1,E2,E2,E2,E3,E3,E3,E3) </center>"
      ]
    },
    {
      "cell_type": "code",
      "metadata": {
        "trusted": true,
        "id": "eobMVmXxm5Zn",
        "outputId": "7fbacc3f-fea3-42b8-ca3c-797976bd5f6b",
        "colab": {
          "base_uri": "https://localhost:8080/",
          "height": 104
        }
      },
      "source": [
        "# Paso 3\n",
        "est <- rep(c(\"E1\",\"E2\",\"E3\"), time = c(33,33,34))\n",
        "est\n",
        "length (est)"
      ],
      "execution_count": null,
      "outputs": [
        {
          "output_type": "display_data",
          "data": {
            "text/html": [
              "<style>\n",
              ".list-inline {list-style: none; margin:0; padding: 0}\n",
              ".list-inline>li {display: inline-block}\n",
              ".list-inline>li:not(:last-child)::after {content: \"\\00b7\"; padding: 0 .5ex}\n",
              "</style>\n",
              "<ol class=list-inline><li>'E1'</li><li>'E1'</li><li>'E1'</li><li>'E1'</li><li>'E1'</li><li>'E1'</li><li>'E1'</li><li>'E1'</li><li>'E1'</li><li>'E1'</li><li>'E1'</li><li>'E1'</li><li>'E1'</li><li>'E1'</li><li>'E1'</li><li>'E1'</li><li>'E1'</li><li>'E1'</li><li>'E1'</li><li>'E1'</li><li>'E1'</li><li>'E1'</li><li>'E1'</li><li>'E1'</li><li>'E1'</li><li>'E1'</li><li>'E1'</li><li>'E1'</li><li>'E1'</li><li>'E1'</li><li>'E1'</li><li>'E1'</li><li>'E1'</li><li>'E2'</li><li>'E2'</li><li>'E2'</li><li>'E2'</li><li>'E2'</li><li>'E2'</li><li>'E2'</li><li>'E2'</li><li>'E2'</li><li>'E2'</li><li>'E2'</li><li>'E2'</li><li>'E2'</li><li>'E2'</li><li>'E2'</li><li>'E2'</li><li>'E2'</li><li>'E2'</li><li>'E2'</li><li>'E2'</li><li>'E2'</li><li>'E2'</li><li>'E2'</li><li>'E2'</li><li>'E2'</li><li>'E2'</li><li>'E2'</li><li>'E2'</li><li>'E2'</li><li>'E2'</li><li>'E2'</li><li>'E2'</li><li>'E2'</li><li>'E3'</li><li>'E3'</li><li>'E3'</li><li>'E3'</li><li>'E3'</li><li>'E3'</li><li>'E3'</li><li>'E3'</li><li>'E3'</li><li>'E3'</li><li>'E3'</li><li>'E3'</li><li>'E3'</li><li>'E3'</li><li>'E3'</li><li>'E3'</li><li>'E3'</li><li>'E3'</li><li>'E3'</li><li>'E3'</li><li>'E3'</li><li>'E3'</li><li>'E3'</li><li>'E3'</li><li>'E3'</li><li>'E3'</li><li>'E3'</li><li>'E3'</li><li>'E3'</li><li>'E3'</li><li>'E3'</li><li>'E3'</li><li>'E3'</li><li>'E3'</li></ol>\n"
            ],
            "text/markdown": "1. 'E1'\n2. 'E1'\n3. 'E1'\n4. 'E1'\n5. 'E1'\n6. 'E1'\n7. 'E1'\n8. 'E1'\n9. 'E1'\n10. 'E1'\n11. 'E1'\n12. 'E1'\n13. 'E1'\n14. 'E1'\n15. 'E1'\n16. 'E1'\n17. 'E1'\n18. 'E1'\n19. 'E1'\n20. 'E1'\n21. 'E1'\n22. 'E1'\n23. 'E1'\n24. 'E1'\n25. 'E1'\n26. 'E1'\n27. 'E1'\n28. 'E1'\n29. 'E1'\n30. 'E1'\n31. 'E1'\n32. 'E1'\n33. 'E1'\n34. 'E2'\n35. 'E2'\n36. 'E2'\n37. 'E2'\n38. 'E2'\n39. 'E2'\n40. 'E2'\n41. 'E2'\n42. 'E2'\n43. 'E2'\n44. 'E2'\n45. 'E2'\n46. 'E2'\n47. 'E2'\n48. 'E2'\n49. 'E2'\n50. 'E2'\n51. 'E2'\n52. 'E2'\n53. 'E2'\n54. 'E2'\n55. 'E2'\n56. 'E2'\n57. 'E2'\n58. 'E2'\n59. 'E2'\n60. 'E2'\n61. 'E2'\n62. 'E2'\n63. 'E2'\n64. 'E2'\n65. 'E2'\n66. 'E2'\n67. 'E3'\n68. 'E3'\n69. 'E3'\n70. 'E3'\n71. 'E3'\n72. 'E3'\n73. 'E3'\n74. 'E3'\n75. 'E3'\n76. 'E3'\n77. 'E3'\n78. 'E3'\n79. 'E3'\n80. 'E3'\n81. 'E3'\n82. 'E3'\n83. 'E3'\n84. 'E3'\n85. 'E3'\n86. 'E3'\n87. 'E3'\n88. 'E3'\n89. 'E3'\n90. 'E3'\n91. 'E3'\n92. 'E3'\n93. 'E3'\n94. 'E3'\n95. 'E3'\n96. 'E3'\n97. 'E3'\n98. 'E3'\n99. 'E3'\n100. 'E3'\n\n\n",
            "text/latex": "\\begin{enumerate*}\n\\item 'E1'\n\\item 'E1'\n\\item 'E1'\n\\item 'E1'\n\\item 'E1'\n\\item 'E1'\n\\item 'E1'\n\\item 'E1'\n\\item 'E1'\n\\item 'E1'\n\\item 'E1'\n\\item 'E1'\n\\item 'E1'\n\\item 'E1'\n\\item 'E1'\n\\item 'E1'\n\\item 'E1'\n\\item 'E1'\n\\item 'E1'\n\\item 'E1'\n\\item 'E1'\n\\item 'E1'\n\\item 'E1'\n\\item 'E1'\n\\item 'E1'\n\\item 'E1'\n\\item 'E1'\n\\item 'E1'\n\\item 'E1'\n\\item 'E1'\n\\item 'E1'\n\\item 'E1'\n\\item 'E1'\n\\item 'E2'\n\\item 'E2'\n\\item 'E2'\n\\item 'E2'\n\\item 'E2'\n\\item 'E2'\n\\item 'E2'\n\\item 'E2'\n\\item 'E2'\n\\item 'E2'\n\\item 'E2'\n\\item 'E2'\n\\item 'E2'\n\\item 'E2'\n\\item 'E2'\n\\item 'E2'\n\\item 'E2'\n\\item 'E2'\n\\item 'E2'\n\\item 'E2'\n\\item 'E2'\n\\item 'E2'\n\\item 'E2'\n\\item 'E2'\n\\item 'E2'\n\\item 'E2'\n\\item 'E2'\n\\item 'E2'\n\\item 'E2'\n\\item 'E2'\n\\item 'E2'\n\\item 'E2'\n\\item 'E2'\n\\item 'E3'\n\\item 'E3'\n\\item 'E3'\n\\item 'E3'\n\\item 'E3'\n\\item 'E3'\n\\item 'E3'\n\\item 'E3'\n\\item 'E3'\n\\item 'E3'\n\\item 'E3'\n\\item 'E3'\n\\item 'E3'\n\\item 'E3'\n\\item 'E3'\n\\item 'E3'\n\\item 'E3'\n\\item 'E3'\n\\item 'E3'\n\\item 'E3'\n\\item 'E3'\n\\item 'E3'\n\\item 'E3'\n\\item 'E3'\n\\item 'E3'\n\\item 'E3'\n\\item 'E3'\n\\item 'E3'\n\\item 'E3'\n\\item 'E3'\n\\item 'E3'\n\\item 'E3'\n\\item 'E3'\n\\item 'E3'\n\\end{enumerate*}\n",
            "text/plain": [
              "  [1] \"E1\" \"E1\" \"E1\" \"E1\" \"E1\" \"E1\" \"E1\" \"E1\" \"E1\" \"E1\" \"E1\" \"E1\" \"E1\" \"E1\" \"E1\"\n",
              " [16] \"E1\" \"E1\" \"E1\" \"E1\" \"E1\" \"E1\" \"E1\" \"E1\" \"E1\" \"E1\" \"E1\" \"E1\" \"E1\" \"E1\" \"E1\"\n",
              " [31] \"E1\" \"E1\" \"E1\" \"E2\" \"E2\" \"E2\" \"E2\" \"E2\" \"E2\" \"E2\" \"E2\" \"E2\" \"E2\" \"E2\" \"E2\"\n",
              " [46] \"E2\" \"E2\" \"E2\" \"E2\" \"E2\" \"E2\" \"E2\" \"E2\" \"E2\" \"E2\" \"E2\" \"E2\" \"E2\" \"E2\" \"E2\"\n",
              " [61] \"E2\" \"E2\" \"E2\" \"E2\" \"E2\" \"E2\" \"E3\" \"E3\" \"E3\" \"E3\" \"E3\" \"E3\" \"E3\" \"E3\" \"E3\"\n",
              " [76] \"E3\" \"E3\" \"E3\" \"E3\" \"E3\" \"E3\" \"E3\" \"E3\" \"E3\" \"E3\" \"E3\" \"E3\" \"E3\" \"E3\" \"E3\"\n",
              " [91] \"E3\" \"E3\" \"E3\" \"E3\" \"E3\" \"E3\" \"E3\" \"E3\" \"E3\" \"E3\""
            ]
          },
          "metadata": {}
        },
        {
          "output_type": "display_data",
          "data": {
            "text/html": [
              "100"
            ],
            "text/markdown": "100",
            "text/latex": "100",
            "text/plain": [
              "[1] 100"
            ]
          },
          "metadata": {}
        }
      ]
    },
    {
      "cell_type": "markdown",
      "metadata": {
        "id": "bZZScNwUm5Zp"
      },
      "source": [
        "**Paso 4**\n",
        "\n",
        "Genere un vector llamado _lluvia_ del mismo largo que _temp_, que sea TRUE en las posiciones en que _temp_ sea menor que 20, y FALSE en caso contrario."
      ]
    },
    {
      "cell_type": "code",
      "metadata": {
        "trusted": true,
        "id": "AbtOs123m5Zq",
        "outputId": "63115d60-7634-424d-8598-48ebf3dd49b4",
        "colab": {
          "base_uri": "https://localhost:8080/",
          "height": 260
        }
      },
      "source": [
        "# Paso 4\n",
        "lluvia <- temp<20\n",
        "temp"
      ],
      "execution_count": null,
      "outputs": [
        {
          "output_type": "display_data",
          "data": {
            "text/html": [
              "<style>\n",
              ".list-inline {list-style: none; margin:0; padding: 0}\n",
              ".list-inline>li {display: inline-block}\n",
              ".list-inline>li:not(:last-child)::after {content: \"\\00b7\"; padding: 0 .5ex}\n",
              "</style>\n",
              "<ol class=list-inline><li>28.0473979219447</li><li>40.6007489080847</li><li>34.1778698303744</li><li>37.6146941336422</li><li>28.1478006695561</li><li>2.19295450095988</li><li>26.5976221879169</li><li>8.24246445789232</li><li>23.9735648141108</li><li>15.2228810636275</li><li>15.0575190836405</li><li>13.3789737926433</li><li>34.9960263640921</li><li>25.7449677747921</li><li>31.0894745507877</li><li>16.5586641897343</li><li>15.943889243799</li><li>30.1480043202742</li><li>14.2723582907272</li><li>14.7967149388319</li><li>26.1515557790492</li><li>25.2979464478332</li><li>17.9735861468346</li><li>27.3527389057397</li><li>41.1772122110576</li><li>14.252425261178</li><li>14.8027766119877</li><li>13.7855108814617</li><li>17.876140620232</li><li>29.7116497968083</li><li>24.556526963252</li><li>15.9650608645998</li><li>20.5780915449121</li><li>27.742047459394</li><li>16.8914771707423</li><li>19.3099012679735</li><li>27.2428788354161</li><li>28.2849925587212</li><li>37.6079397838501</li><li>14.3585214064946</li><li>11.6465147000481</li><li>27.4363249635653</li><li>13.6465891678667</li><li>14.5485648777624</li><li>11.4347815919524</li><li>15.6972502429871</li><li>26.2071511894617</li><li>21.3313621575981</li><li>8.56145859910327</li><li>25.1764215873971</li><li>14.2573102071502</li><li>20.238034259499</li><li>21.6026397792339</li><li>17.5745339768552</li><li>24.549434438867</li><li>13.9667616510175</li><li>21.657668276317</li><li>33.1893890181651</li><li>14.2308761763363</li><li>14.6386039713871</li><li>21.5165800886131</li><li>17.8327751908711</li><li>30.5057002128044</li><li>26.8261138978349</li><li>15.7180639270166</li><li>15.4685223215065</li><li>36.3793486839586</li><li>20.7681698664106</li><li>33.7810751929382</li><li>19.052157475811</li><li>18.3541587534909</li><li>23.1345088427262</li><li>24.3759694397231</li><li>19.767400196691</li><li>19.3085259438372</li><li>17.5599377234267</li><li>21.3131925089111</li><li>43.3662708993683</li><li>20.5605549660926</li><li>21.975678211684</li><li>19.4590004611896</li><li>17.9490463082087</li><li>27.5436689136507</li><li>10.9672623305815</li><li>21.7261128537755</li><li>27.7711435333199</li><li>18.3802957552293</li><li>18.7463467128986</li><li>22.9746989795573</li><li>23.5281754555667</li><li>-1.23076636814169</li><li>24.8854793421856</li><li>12.7789529176297</li><li>24.8901284763733</li><li>25.3748849180814</li><li>26.7859132907422</li><li>17.6120310412927</li><li>25.7508945927671</li><li>30.380064199775</li><li>18.5026554105248</li></ol>\n"
            ],
            "text/markdown": "1. 28.0473979219447\n2. 40.6007489080847\n3. 34.1778698303744\n4. 37.6146941336422\n5. 28.1478006695561\n6. 2.19295450095988\n7. 26.5976221879169\n8. 8.24246445789232\n9. 23.9735648141108\n10. 15.2228810636275\n11. 15.0575190836405\n12. 13.3789737926433\n13. 34.9960263640921\n14. 25.7449677747921\n15. 31.0894745507877\n16. 16.5586641897343\n17. 15.943889243799\n18. 30.1480043202742\n19. 14.2723582907272\n20. 14.7967149388319\n21. 26.1515557790492\n22. 25.2979464478332\n23. 17.9735861468346\n24. 27.3527389057397\n25. 41.1772122110576\n26. 14.252425261178\n27. 14.8027766119877\n28. 13.7855108814617\n29. 17.876140620232\n30. 29.7116497968083\n31. 24.556526963252\n32. 15.9650608645998\n33. 20.5780915449121\n34. 27.742047459394\n35. 16.8914771707423\n36. 19.3099012679735\n37. 27.2428788354161\n38. 28.2849925587212\n39. 37.6079397838501\n40. 14.3585214064946\n41. 11.6465147000481\n42. 27.4363249635653\n43. 13.6465891678667\n44. 14.5485648777624\n45. 11.4347815919524\n46. 15.6972502429871\n47. 26.2071511894617\n48. 21.3313621575981\n49. 8.56145859910327\n50. 25.1764215873971\n51. 14.2573102071502\n52. 20.238034259499\n53. 21.6026397792339\n54. 17.5745339768552\n55. 24.549434438867\n56. 13.9667616510175\n57. 21.657668276317\n58. 33.1893890181651\n59. 14.2308761763363\n60. 14.6386039713871\n61. 21.5165800886131\n62. 17.8327751908711\n63. 30.5057002128044\n64. 26.8261138978349\n65. 15.7180639270166\n66. 15.4685223215065\n67. 36.3793486839586\n68. 20.7681698664106\n69. 33.7810751929382\n70. 19.052157475811\n71. 18.3541587534909\n72. 23.1345088427262\n73. 24.3759694397231\n74. 19.767400196691\n75. 19.3085259438372\n76. 17.5599377234267\n77. 21.3131925089111\n78. 43.3662708993683\n79. 20.5605549660926\n80. 21.975678211684\n81. 19.4590004611896\n82. 17.9490463082087\n83. 27.5436689136507\n84. 10.9672623305815\n85. 21.7261128537755\n86. 27.7711435333199\n87. 18.3802957552293\n88. 18.7463467128986\n89. 22.9746989795573\n90. 23.5281754555667\n91. -1.23076636814169\n92. 24.8854793421856\n93. 12.7789529176297\n94. 24.8901284763733\n95. 25.3748849180814\n96. 26.7859132907422\n97. 17.6120310412927\n98. 25.7508945927671\n99. 30.380064199775\n100. 18.5026554105248\n\n\n",
            "text/latex": "\\begin{enumerate*}\n\\item 28.0473979219447\n\\item 40.6007489080847\n\\item 34.1778698303744\n\\item 37.6146941336422\n\\item 28.1478006695561\n\\item 2.19295450095988\n\\item 26.5976221879169\n\\item 8.24246445789232\n\\item 23.9735648141108\n\\item 15.2228810636275\n\\item 15.0575190836405\n\\item 13.3789737926433\n\\item 34.9960263640921\n\\item 25.7449677747921\n\\item 31.0894745507877\n\\item 16.5586641897343\n\\item 15.943889243799\n\\item 30.1480043202742\n\\item 14.2723582907272\n\\item 14.7967149388319\n\\item 26.1515557790492\n\\item 25.2979464478332\n\\item 17.9735861468346\n\\item 27.3527389057397\n\\item 41.1772122110576\n\\item 14.252425261178\n\\item 14.8027766119877\n\\item 13.7855108814617\n\\item 17.876140620232\n\\item 29.7116497968083\n\\item 24.556526963252\n\\item 15.9650608645998\n\\item 20.5780915449121\n\\item 27.742047459394\n\\item 16.8914771707423\n\\item 19.3099012679735\n\\item 27.2428788354161\n\\item 28.2849925587212\n\\item 37.6079397838501\n\\item 14.3585214064946\n\\item 11.6465147000481\n\\item 27.4363249635653\n\\item 13.6465891678667\n\\item 14.5485648777624\n\\item 11.4347815919524\n\\item 15.6972502429871\n\\item 26.2071511894617\n\\item 21.3313621575981\n\\item 8.56145859910327\n\\item 25.1764215873971\n\\item 14.2573102071502\n\\item 20.238034259499\n\\item 21.6026397792339\n\\item 17.5745339768552\n\\item 24.549434438867\n\\item 13.9667616510175\n\\item 21.657668276317\n\\item 33.1893890181651\n\\item 14.2308761763363\n\\item 14.6386039713871\n\\item 21.5165800886131\n\\item 17.8327751908711\n\\item 30.5057002128044\n\\item 26.8261138978349\n\\item 15.7180639270166\n\\item 15.4685223215065\n\\item 36.3793486839586\n\\item 20.7681698664106\n\\item 33.7810751929382\n\\item 19.052157475811\n\\item 18.3541587534909\n\\item 23.1345088427262\n\\item 24.3759694397231\n\\item 19.767400196691\n\\item 19.3085259438372\n\\item 17.5599377234267\n\\item 21.3131925089111\n\\item 43.3662708993683\n\\item 20.5605549660926\n\\item 21.975678211684\n\\item 19.4590004611896\n\\item 17.9490463082087\n\\item 27.5436689136507\n\\item 10.9672623305815\n\\item 21.7261128537755\n\\item 27.7711435333199\n\\item 18.3802957552293\n\\item 18.7463467128986\n\\item 22.9746989795573\n\\item 23.5281754555667\n\\item -1.23076636814169\n\\item 24.8854793421856\n\\item 12.7789529176297\n\\item 24.8901284763733\n\\item 25.3748849180814\n\\item 26.7859132907422\n\\item 17.6120310412927\n\\item 25.7508945927671\n\\item 30.380064199775\n\\item 18.5026554105248\n\\end{enumerate*}\n",
            "text/plain": [
              "  [1] 28.047398 40.600749 34.177870 37.614694 28.147801  2.192955 26.597622\n",
              "  [8]  8.242464 23.973565 15.222881 15.057519 13.378974 34.996026 25.744968\n",
              " [15] 31.089475 16.558664 15.943889 30.148004 14.272358 14.796715 26.151556\n",
              " [22] 25.297946 17.973586 27.352739 41.177212 14.252425 14.802777 13.785511\n",
              " [29] 17.876141 29.711650 24.556527 15.965061 20.578092 27.742047 16.891477\n",
              " [36] 19.309901 27.242879 28.284993 37.607940 14.358521 11.646515 27.436325\n",
              " [43] 13.646589 14.548565 11.434782 15.697250 26.207151 21.331362  8.561459\n",
              " [50] 25.176422 14.257310 20.238034 21.602640 17.574534 24.549434 13.966762\n",
              " [57] 21.657668 33.189389 14.230876 14.638604 21.516580 17.832775 30.505700\n",
              " [64] 26.826114 15.718064 15.468522 36.379349 20.768170 33.781075 19.052157\n",
              " [71] 18.354159 23.134509 24.375969 19.767400 19.308526 17.559938 21.313193\n",
              " [78] 43.366271 20.560555 21.975678 19.459000 17.949046 27.543669 10.967262\n",
              " [85] 21.726113 27.771144 18.380296 18.746347 22.974699 23.528175 -1.230766\n",
              " [92] 24.885479 12.778953 24.890128 25.374885 26.785913 17.612031 25.750895\n",
              " [99] 30.380064 18.502655"
            ]
          },
          "metadata": {}
        }
      ]
    },
    {
      "cell_type": "markdown",
      "metadata": {
        "id": "i7p8FIdtm5Zs"
      },
      "source": [
        "**Paso 5**\n",
        "\n",
        "Finalmente cree un data frame llamado _precipitaciones_ con las siguientes columnas:<br>\n",
        "\n",
        "*Dia_semana* (con los valores del vector _dia_)<br>\n",
        "*Temperatura* (con los valores del vector _temp_)<br>\n",
        "*Llueve* (con los valores del vector _lluvia_)<br>\n",
        "*Estacion* (con los valores del vector _est_)<br>"
      ]
    },
    {
      "cell_type": "code",
      "metadata": {
        "trusted": true,
        "id": "o-TVm7uum5Zs",
        "outputId": "682938aa-91d2-44e3-f66d-e0a7a1a900ac",
        "colab": {
          "base_uri": "https://localhost:8080/",
          "height": 1000
        }
      },
      "source": [
        "# Paso 5\n",
        "precipitaciones <- data.frame(Dia_semana = dia,\n",
        "                              Temperatura = temp,\n",
        "                              Llueve = lluvia,\n",
        "                              Estacion= est  )\n",
        "precipitaciones"
      ],
      "execution_count": null,
      "outputs": [
        {
          "output_type": "display_data",
          "data": {
            "text/html": [
              "<table class=\"dataframe\">\n",
              "<caption>A data.frame: 100 × 4</caption>\n",
              "<thead>\n",
              "\t<tr><th scope=col>Dia_semana</th><th scope=col>Temperatura</th><th scope=col>Llueve</th><th scope=col>Estacion</th></tr>\n",
              "\t<tr><th scope=col>&lt;chr&gt;</th><th scope=col>&lt;dbl&gt;</th><th scope=col>&lt;lgl&gt;</th><th scope=col>&lt;chr&gt;</th></tr>\n",
              "</thead>\n",
              "<tbody>\n",
              "\t<tr><td>L</td><td>28.047398</td><td>FALSE</td><td>E1</td></tr>\n",
              "\t<tr><td>M</td><td>40.600749</td><td>FALSE</td><td>E1</td></tr>\n",
              "\t<tr><td>W</td><td>34.177870</td><td>FALSE</td><td>E1</td></tr>\n",
              "\t<tr><td>J</td><td>37.614694</td><td>FALSE</td><td>E1</td></tr>\n",
              "\t<tr><td>V</td><td>28.147801</td><td>FALSE</td><td>E1</td></tr>\n",
              "\t<tr><td>S</td><td> 2.192955</td><td> TRUE</td><td>E1</td></tr>\n",
              "\t<tr><td>D</td><td>26.597622</td><td>FALSE</td><td>E1</td></tr>\n",
              "\t<tr><td>L</td><td> 8.242464</td><td> TRUE</td><td>E1</td></tr>\n",
              "\t<tr><td>M</td><td>23.973565</td><td>FALSE</td><td>E1</td></tr>\n",
              "\t<tr><td>W</td><td>15.222881</td><td> TRUE</td><td>E1</td></tr>\n",
              "\t<tr><td>J</td><td>15.057519</td><td> TRUE</td><td>E1</td></tr>\n",
              "\t<tr><td>V</td><td>13.378974</td><td> TRUE</td><td>E1</td></tr>\n",
              "\t<tr><td>S</td><td>34.996026</td><td>FALSE</td><td>E1</td></tr>\n",
              "\t<tr><td>D</td><td>25.744968</td><td>FALSE</td><td>E1</td></tr>\n",
              "\t<tr><td>L</td><td>31.089475</td><td>FALSE</td><td>E1</td></tr>\n",
              "\t<tr><td>M</td><td>16.558664</td><td> TRUE</td><td>E1</td></tr>\n",
              "\t<tr><td>W</td><td>15.943889</td><td> TRUE</td><td>E1</td></tr>\n",
              "\t<tr><td>J</td><td>30.148004</td><td>FALSE</td><td>E1</td></tr>\n",
              "\t<tr><td>V</td><td>14.272358</td><td> TRUE</td><td>E1</td></tr>\n",
              "\t<tr><td>S</td><td>14.796715</td><td> TRUE</td><td>E1</td></tr>\n",
              "\t<tr><td>D</td><td>26.151556</td><td>FALSE</td><td>E1</td></tr>\n",
              "\t<tr><td>L</td><td>25.297946</td><td>FALSE</td><td>E1</td></tr>\n",
              "\t<tr><td>M</td><td>17.973586</td><td> TRUE</td><td>E1</td></tr>\n",
              "\t<tr><td>W</td><td>27.352739</td><td>FALSE</td><td>E1</td></tr>\n",
              "\t<tr><td>J</td><td>41.177212</td><td>FALSE</td><td>E1</td></tr>\n",
              "\t<tr><td>V</td><td>14.252425</td><td> TRUE</td><td>E1</td></tr>\n",
              "\t<tr><td>S</td><td>14.802777</td><td> TRUE</td><td>E1</td></tr>\n",
              "\t<tr><td>D</td><td>13.785511</td><td> TRUE</td><td>E1</td></tr>\n",
              "\t<tr><td>L</td><td>17.876141</td><td> TRUE</td><td>E1</td></tr>\n",
              "\t<tr><td>M</td><td>29.711650</td><td>FALSE</td><td>E1</td></tr>\n",
              "\t<tr><td>⋮</td><td>⋮</td><td>⋮</td><td>⋮</td></tr>\n",
              "\t<tr><td>L</td><td>18.354159</td><td> TRUE</td><td>E3</td></tr>\n",
              "\t<tr><td>M</td><td>23.134509</td><td>FALSE</td><td>E3</td></tr>\n",
              "\t<tr><td>W</td><td>24.375969</td><td>FALSE</td><td>E3</td></tr>\n",
              "\t<tr><td>J</td><td>19.767400</td><td> TRUE</td><td>E3</td></tr>\n",
              "\t<tr><td>V</td><td>19.308526</td><td> TRUE</td><td>E3</td></tr>\n",
              "\t<tr><td>S</td><td>17.559938</td><td> TRUE</td><td>E3</td></tr>\n",
              "\t<tr><td>D</td><td>21.313193</td><td>FALSE</td><td>E3</td></tr>\n",
              "\t<tr><td>L</td><td>43.366271</td><td>FALSE</td><td>E3</td></tr>\n",
              "\t<tr><td>M</td><td>20.560555</td><td>FALSE</td><td>E3</td></tr>\n",
              "\t<tr><td>W</td><td>21.975678</td><td>FALSE</td><td>E3</td></tr>\n",
              "\t<tr><td>J</td><td>19.459000</td><td> TRUE</td><td>E3</td></tr>\n",
              "\t<tr><td>V</td><td>17.949046</td><td> TRUE</td><td>E3</td></tr>\n",
              "\t<tr><td>S</td><td>27.543669</td><td>FALSE</td><td>E3</td></tr>\n",
              "\t<tr><td>D</td><td>10.967262</td><td> TRUE</td><td>E3</td></tr>\n",
              "\t<tr><td>L</td><td>21.726113</td><td>FALSE</td><td>E3</td></tr>\n",
              "\t<tr><td>M</td><td>27.771144</td><td>FALSE</td><td>E3</td></tr>\n",
              "\t<tr><td>W</td><td>18.380296</td><td> TRUE</td><td>E3</td></tr>\n",
              "\t<tr><td>J</td><td>18.746347</td><td> TRUE</td><td>E3</td></tr>\n",
              "\t<tr><td>V</td><td>22.974699</td><td>FALSE</td><td>E3</td></tr>\n",
              "\t<tr><td>S</td><td>23.528175</td><td>FALSE</td><td>E3</td></tr>\n",
              "\t<tr><td>D</td><td>-1.230766</td><td> TRUE</td><td>E3</td></tr>\n",
              "\t<tr><td>L</td><td>24.885479</td><td>FALSE</td><td>E3</td></tr>\n",
              "\t<tr><td>M</td><td>12.778953</td><td> TRUE</td><td>E3</td></tr>\n",
              "\t<tr><td>W</td><td>24.890128</td><td>FALSE</td><td>E3</td></tr>\n",
              "\t<tr><td>J</td><td>25.374885</td><td>FALSE</td><td>E3</td></tr>\n",
              "\t<tr><td>V</td><td>26.785913</td><td>FALSE</td><td>E3</td></tr>\n",
              "\t<tr><td>S</td><td>17.612031</td><td> TRUE</td><td>E3</td></tr>\n",
              "\t<tr><td>D</td><td>25.750895</td><td>FALSE</td><td>E3</td></tr>\n",
              "\t<tr><td>L</td><td>30.380064</td><td>FALSE</td><td>E3</td></tr>\n",
              "\t<tr><td>M</td><td>18.502655</td><td> TRUE</td><td>E3</td></tr>\n",
              "</tbody>\n",
              "</table>\n"
            ],
            "text/markdown": "\nA data.frame: 100 × 4\n\n| Dia_semana &lt;chr&gt; | Temperatura &lt;dbl&gt; | Llueve &lt;lgl&gt; | Estacion &lt;chr&gt; |\n|---|---|---|---|\n| L | 28.047398 | FALSE | E1 |\n| M | 40.600749 | FALSE | E1 |\n| W | 34.177870 | FALSE | E1 |\n| J | 37.614694 | FALSE | E1 |\n| V | 28.147801 | FALSE | E1 |\n| S |  2.192955 |  TRUE | E1 |\n| D | 26.597622 | FALSE | E1 |\n| L |  8.242464 |  TRUE | E1 |\n| M | 23.973565 | FALSE | E1 |\n| W | 15.222881 |  TRUE | E1 |\n| J | 15.057519 |  TRUE | E1 |\n| V | 13.378974 |  TRUE | E1 |\n| S | 34.996026 | FALSE | E1 |\n| D | 25.744968 | FALSE | E1 |\n| L | 31.089475 | FALSE | E1 |\n| M | 16.558664 |  TRUE | E1 |\n| W | 15.943889 |  TRUE | E1 |\n| J | 30.148004 | FALSE | E1 |\n| V | 14.272358 |  TRUE | E1 |\n| S | 14.796715 |  TRUE | E1 |\n| D | 26.151556 | FALSE | E1 |\n| L | 25.297946 | FALSE | E1 |\n| M | 17.973586 |  TRUE | E1 |\n| W | 27.352739 | FALSE | E1 |\n| J | 41.177212 | FALSE | E1 |\n| V | 14.252425 |  TRUE | E1 |\n| S | 14.802777 |  TRUE | E1 |\n| D | 13.785511 |  TRUE | E1 |\n| L | 17.876141 |  TRUE | E1 |\n| M | 29.711650 | FALSE | E1 |\n| ⋮ | ⋮ | ⋮ | ⋮ |\n| L | 18.354159 |  TRUE | E3 |\n| M | 23.134509 | FALSE | E3 |\n| W | 24.375969 | FALSE | E3 |\n| J | 19.767400 |  TRUE | E3 |\n| V | 19.308526 |  TRUE | E3 |\n| S | 17.559938 |  TRUE | E3 |\n| D | 21.313193 | FALSE | E3 |\n| L | 43.366271 | FALSE | E3 |\n| M | 20.560555 | FALSE | E3 |\n| W | 21.975678 | FALSE | E3 |\n| J | 19.459000 |  TRUE | E3 |\n| V | 17.949046 |  TRUE | E3 |\n| S | 27.543669 | FALSE | E3 |\n| D | 10.967262 |  TRUE | E3 |\n| L | 21.726113 | FALSE | E3 |\n| M | 27.771144 | FALSE | E3 |\n| W | 18.380296 |  TRUE | E3 |\n| J | 18.746347 |  TRUE | E3 |\n| V | 22.974699 | FALSE | E3 |\n| S | 23.528175 | FALSE | E3 |\n| D | -1.230766 |  TRUE | E3 |\n| L | 24.885479 | FALSE | E3 |\n| M | 12.778953 |  TRUE | E3 |\n| W | 24.890128 | FALSE | E3 |\n| J | 25.374885 | FALSE | E3 |\n| V | 26.785913 | FALSE | E3 |\n| S | 17.612031 |  TRUE | E3 |\n| D | 25.750895 | FALSE | E3 |\n| L | 30.380064 | FALSE | E3 |\n| M | 18.502655 |  TRUE | E3 |\n\n",
            "text/latex": "A data.frame: 100 × 4\n\\begin{tabular}{llll}\n Dia\\_semana & Temperatura & Llueve & Estacion\\\\\n <chr> & <dbl> & <lgl> & <chr>\\\\\n\\hline\n\t L & 28.047398 & FALSE & E1\\\\\n\t M & 40.600749 & FALSE & E1\\\\\n\t W & 34.177870 & FALSE & E1\\\\\n\t J & 37.614694 & FALSE & E1\\\\\n\t V & 28.147801 & FALSE & E1\\\\\n\t S &  2.192955 &  TRUE & E1\\\\\n\t D & 26.597622 & FALSE & E1\\\\\n\t L &  8.242464 &  TRUE & E1\\\\\n\t M & 23.973565 & FALSE & E1\\\\\n\t W & 15.222881 &  TRUE & E1\\\\\n\t J & 15.057519 &  TRUE & E1\\\\\n\t V & 13.378974 &  TRUE & E1\\\\\n\t S & 34.996026 & FALSE & E1\\\\\n\t D & 25.744968 & FALSE & E1\\\\\n\t L & 31.089475 & FALSE & E1\\\\\n\t M & 16.558664 &  TRUE & E1\\\\\n\t W & 15.943889 &  TRUE & E1\\\\\n\t J & 30.148004 & FALSE & E1\\\\\n\t V & 14.272358 &  TRUE & E1\\\\\n\t S & 14.796715 &  TRUE & E1\\\\\n\t D & 26.151556 & FALSE & E1\\\\\n\t L & 25.297946 & FALSE & E1\\\\\n\t M & 17.973586 &  TRUE & E1\\\\\n\t W & 27.352739 & FALSE & E1\\\\\n\t J & 41.177212 & FALSE & E1\\\\\n\t V & 14.252425 &  TRUE & E1\\\\\n\t S & 14.802777 &  TRUE & E1\\\\\n\t D & 13.785511 &  TRUE & E1\\\\\n\t L & 17.876141 &  TRUE & E1\\\\\n\t M & 29.711650 & FALSE & E1\\\\\n\t ⋮ & ⋮ & ⋮ & ⋮\\\\\n\t L & 18.354159 &  TRUE & E3\\\\\n\t M & 23.134509 & FALSE & E3\\\\\n\t W & 24.375969 & FALSE & E3\\\\\n\t J & 19.767400 &  TRUE & E3\\\\\n\t V & 19.308526 &  TRUE & E3\\\\\n\t S & 17.559938 &  TRUE & E3\\\\\n\t D & 21.313193 & FALSE & E3\\\\\n\t L & 43.366271 & FALSE & E3\\\\\n\t M & 20.560555 & FALSE & E3\\\\\n\t W & 21.975678 & FALSE & E3\\\\\n\t J & 19.459000 &  TRUE & E3\\\\\n\t V & 17.949046 &  TRUE & E3\\\\\n\t S & 27.543669 & FALSE & E3\\\\\n\t D & 10.967262 &  TRUE & E3\\\\\n\t L & 21.726113 & FALSE & E3\\\\\n\t M & 27.771144 & FALSE & E3\\\\\n\t W & 18.380296 &  TRUE & E3\\\\\n\t J & 18.746347 &  TRUE & E3\\\\\n\t V & 22.974699 & FALSE & E3\\\\\n\t S & 23.528175 & FALSE & E3\\\\\n\t D & -1.230766 &  TRUE & E3\\\\\n\t L & 24.885479 & FALSE & E3\\\\\n\t M & 12.778953 &  TRUE & E3\\\\\n\t W & 24.890128 & FALSE & E3\\\\\n\t J & 25.374885 & FALSE & E3\\\\\n\t V & 26.785913 & FALSE & E3\\\\\n\t S & 17.612031 &  TRUE & E3\\\\\n\t D & 25.750895 & FALSE & E3\\\\\n\t L & 30.380064 & FALSE & E3\\\\\n\t M & 18.502655 &  TRUE & E3\\\\\n\\end{tabular}\n",
            "text/plain": [
              "    Dia_semana Temperatura Llueve Estacion\n",
              "1   L          28.047398   FALSE  E1      \n",
              "2   M          40.600749   FALSE  E1      \n",
              "3   W          34.177870   FALSE  E1      \n",
              "4   J          37.614694   FALSE  E1      \n",
              "5   V          28.147801   FALSE  E1      \n",
              "6   S           2.192955    TRUE  E1      \n",
              "7   D          26.597622   FALSE  E1      \n",
              "8   L           8.242464    TRUE  E1      \n",
              "9   M          23.973565   FALSE  E1      \n",
              "10  W          15.222881    TRUE  E1      \n",
              "11  J          15.057519    TRUE  E1      \n",
              "12  V          13.378974    TRUE  E1      \n",
              "13  S          34.996026   FALSE  E1      \n",
              "14  D          25.744968   FALSE  E1      \n",
              "15  L          31.089475   FALSE  E1      \n",
              "16  M          16.558664    TRUE  E1      \n",
              "17  W          15.943889    TRUE  E1      \n",
              "18  J          30.148004   FALSE  E1      \n",
              "19  V          14.272358    TRUE  E1      \n",
              "20  S          14.796715    TRUE  E1      \n",
              "21  D          26.151556   FALSE  E1      \n",
              "22  L          25.297946   FALSE  E1      \n",
              "23  M          17.973586    TRUE  E1      \n",
              "24  W          27.352739   FALSE  E1      \n",
              "25  J          41.177212   FALSE  E1      \n",
              "26  V          14.252425    TRUE  E1      \n",
              "27  S          14.802777    TRUE  E1      \n",
              "28  D          13.785511    TRUE  E1      \n",
              "29  L          17.876141    TRUE  E1      \n",
              "30  M          29.711650   FALSE  E1      \n",
              "⋮   ⋮          ⋮           ⋮      ⋮       \n",
              "71  L          18.354159    TRUE  E3      \n",
              "72  M          23.134509   FALSE  E3      \n",
              "73  W          24.375969   FALSE  E3      \n",
              "74  J          19.767400    TRUE  E3      \n",
              "75  V          19.308526    TRUE  E3      \n",
              "76  S          17.559938    TRUE  E3      \n",
              "77  D          21.313193   FALSE  E3      \n",
              "78  L          43.366271   FALSE  E3      \n",
              "79  M          20.560555   FALSE  E3      \n",
              "80  W          21.975678   FALSE  E3      \n",
              "81  J          19.459000    TRUE  E3      \n",
              "82  V          17.949046    TRUE  E3      \n",
              "83  S          27.543669   FALSE  E3      \n",
              "84  D          10.967262    TRUE  E3      \n",
              "85  L          21.726113   FALSE  E3      \n",
              "86  M          27.771144   FALSE  E3      \n",
              "87  W          18.380296    TRUE  E3      \n",
              "88  J          18.746347    TRUE  E3      \n",
              "89  V          22.974699   FALSE  E3      \n",
              "90  S          23.528175   FALSE  E3      \n",
              "91  D          -1.230766    TRUE  E3      \n",
              "92  L          24.885479   FALSE  E3      \n",
              "93  M          12.778953    TRUE  E3      \n",
              "94  W          24.890128   FALSE  E3      \n",
              "95  J          25.374885   FALSE  E3      \n",
              "96  V          26.785913   FALSE  E3      \n",
              "97  S          17.612031    TRUE  E3      \n",
              "98  D          25.750895   FALSE  E3      \n",
              "99  L          30.380064   FALSE  E3      \n",
              "100 M          18.502655    TRUE  E3      "
            ]
          },
          "metadata": {}
        }
      ]
    },
    {
      "cell_type": "code",
      "source": [
        "head(precipitaciones,15)"
      ],
      "metadata": {
        "id": "Bc96VwBOZHhY",
        "outputId": "346f1365-527e-464b-f3b4-236390aef1f5",
        "colab": {
          "base_uri": "https://localhost:8080/",
          "height": 568
        }
      },
      "execution_count": null,
      "outputs": [
        {
          "output_type": "display_data",
          "data": {
            "text/html": [
              "<table class=\"dataframe\">\n",
              "<caption>A data.frame: 15 × 4</caption>\n",
              "<thead>\n",
              "\t<tr><th></th><th scope=col>Dia_semana</th><th scope=col>Temperatura</th><th scope=col>Llueve</th><th scope=col>Estacion</th></tr>\n",
              "\t<tr><th></th><th scope=col>&lt;chr&gt;</th><th scope=col>&lt;dbl&gt;</th><th scope=col>&lt;lgl&gt;</th><th scope=col>&lt;chr&gt;</th></tr>\n",
              "</thead>\n",
              "<tbody>\n",
              "\t<tr><th scope=row>1</th><td>L</td><td>28.047398</td><td>FALSE</td><td>E1</td></tr>\n",
              "\t<tr><th scope=row>2</th><td>M</td><td>40.600749</td><td>FALSE</td><td>E1</td></tr>\n",
              "\t<tr><th scope=row>3</th><td>W</td><td>34.177870</td><td>FALSE</td><td>E1</td></tr>\n",
              "\t<tr><th scope=row>4</th><td>J</td><td>37.614694</td><td>FALSE</td><td>E1</td></tr>\n",
              "\t<tr><th scope=row>5</th><td>V</td><td>28.147801</td><td>FALSE</td><td>E1</td></tr>\n",
              "\t<tr><th scope=row>6</th><td>S</td><td> 2.192955</td><td> TRUE</td><td>E1</td></tr>\n",
              "\t<tr><th scope=row>7</th><td>D</td><td>26.597622</td><td>FALSE</td><td>E1</td></tr>\n",
              "\t<tr><th scope=row>8</th><td>L</td><td> 8.242464</td><td> TRUE</td><td>E1</td></tr>\n",
              "\t<tr><th scope=row>9</th><td>M</td><td>23.973565</td><td>FALSE</td><td>E1</td></tr>\n",
              "\t<tr><th scope=row>10</th><td>W</td><td>15.222881</td><td> TRUE</td><td>E1</td></tr>\n",
              "\t<tr><th scope=row>11</th><td>J</td><td>15.057519</td><td> TRUE</td><td>E1</td></tr>\n",
              "\t<tr><th scope=row>12</th><td>V</td><td>13.378974</td><td> TRUE</td><td>E1</td></tr>\n",
              "\t<tr><th scope=row>13</th><td>S</td><td>34.996026</td><td>FALSE</td><td>E1</td></tr>\n",
              "\t<tr><th scope=row>14</th><td>D</td><td>25.744968</td><td>FALSE</td><td>E1</td></tr>\n",
              "\t<tr><th scope=row>15</th><td>L</td><td>31.089475</td><td>FALSE</td><td>E1</td></tr>\n",
              "</tbody>\n",
              "</table>\n"
            ],
            "text/markdown": "\nA data.frame: 15 × 4\n\n| <!--/--> | Dia_semana &lt;chr&gt; | Temperatura &lt;dbl&gt; | Llueve &lt;lgl&gt; | Estacion &lt;chr&gt; |\n|---|---|---|---|---|\n| 1 | L | 28.047398 | FALSE | E1 |\n| 2 | M | 40.600749 | FALSE | E1 |\n| 3 | W | 34.177870 | FALSE | E1 |\n| 4 | J | 37.614694 | FALSE | E1 |\n| 5 | V | 28.147801 | FALSE | E1 |\n| 6 | S |  2.192955 |  TRUE | E1 |\n| 7 | D | 26.597622 | FALSE | E1 |\n| 8 | L |  8.242464 |  TRUE | E1 |\n| 9 | M | 23.973565 | FALSE | E1 |\n| 10 | W | 15.222881 |  TRUE | E1 |\n| 11 | J | 15.057519 |  TRUE | E1 |\n| 12 | V | 13.378974 |  TRUE | E1 |\n| 13 | S | 34.996026 | FALSE | E1 |\n| 14 | D | 25.744968 | FALSE | E1 |\n| 15 | L | 31.089475 | FALSE | E1 |\n\n",
            "text/latex": "A data.frame: 15 × 4\n\\begin{tabular}{r|llll}\n  & Dia\\_semana & Temperatura & Llueve & Estacion\\\\\n  & <chr> & <dbl> & <lgl> & <chr>\\\\\n\\hline\n\t1 & L & 28.047398 & FALSE & E1\\\\\n\t2 & M & 40.600749 & FALSE & E1\\\\\n\t3 & W & 34.177870 & FALSE & E1\\\\\n\t4 & J & 37.614694 & FALSE & E1\\\\\n\t5 & V & 28.147801 & FALSE & E1\\\\\n\t6 & S &  2.192955 &  TRUE & E1\\\\\n\t7 & D & 26.597622 & FALSE & E1\\\\\n\t8 & L &  8.242464 &  TRUE & E1\\\\\n\t9 & M & 23.973565 & FALSE & E1\\\\\n\t10 & W & 15.222881 &  TRUE & E1\\\\\n\t11 & J & 15.057519 &  TRUE & E1\\\\\n\t12 & V & 13.378974 &  TRUE & E1\\\\\n\t13 & S & 34.996026 & FALSE & E1\\\\\n\t14 & D & 25.744968 & FALSE & E1\\\\\n\t15 & L & 31.089475 & FALSE & E1\\\\\n\\end{tabular}\n",
            "text/plain": [
              "   Dia_semana Temperatura Llueve Estacion\n",
              "1  L          28.047398   FALSE  E1      \n",
              "2  M          40.600749   FALSE  E1      \n",
              "3  W          34.177870   FALSE  E1      \n",
              "4  J          37.614694   FALSE  E1      \n",
              "5  V          28.147801   FALSE  E1      \n",
              "6  S           2.192955    TRUE  E1      \n",
              "7  D          26.597622   FALSE  E1      \n",
              "8  L           8.242464    TRUE  E1      \n",
              "9  M          23.973565   FALSE  E1      \n",
              "10 W          15.222881    TRUE  E1      \n",
              "11 J          15.057519    TRUE  E1      \n",
              "12 V          13.378974    TRUE  E1      \n",
              "13 S          34.996026   FALSE  E1      \n",
              "14 D          25.744968   FALSE  E1      \n",
              "15 L          31.089475   FALSE  E1      "
            ]
          },
          "metadata": {}
        }
      ]
    },
    {
      "cell_type": "code",
      "source": [
        "tail(precipitaciones)"
      ],
      "metadata": {
        "id": "BgDOSb-ucSmE",
        "outputId": "53f77afc-6579-4117-b5d3-583bb0736c8e",
        "colab": {
          "base_uri": "https://localhost:8080/",
          "height": 286
        }
      },
      "execution_count": null,
      "outputs": [
        {
          "output_type": "display_data",
          "data": {
            "text/html": [
              "<table class=\"dataframe\">\n",
              "<caption>A data.frame: 6 × 4</caption>\n",
              "<thead>\n",
              "\t<tr><th></th><th scope=col>Dia_semana</th><th scope=col>Temperatura</th><th scope=col>Llueve</th><th scope=col>Estacion</th></tr>\n",
              "\t<tr><th></th><th scope=col>&lt;chr&gt;</th><th scope=col>&lt;dbl&gt;</th><th scope=col>&lt;lgl&gt;</th><th scope=col>&lt;chr&gt;</th></tr>\n",
              "</thead>\n",
              "<tbody>\n",
              "\t<tr><th scope=row>95</th><td>J</td><td>25.37488</td><td>FALSE</td><td>E3</td></tr>\n",
              "\t<tr><th scope=row>96</th><td>V</td><td>26.78591</td><td>FALSE</td><td>E3</td></tr>\n",
              "\t<tr><th scope=row>97</th><td>S</td><td>17.61203</td><td> TRUE</td><td>E3</td></tr>\n",
              "\t<tr><th scope=row>98</th><td>D</td><td>25.75089</td><td>FALSE</td><td>E3</td></tr>\n",
              "\t<tr><th scope=row>99</th><td>L</td><td>30.38006</td><td>FALSE</td><td>E3</td></tr>\n",
              "\t<tr><th scope=row>100</th><td>M</td><td>18.50266</td><td> TRUE</td><td>E3</td></tr>\n",
              "</tbody>\n",
              "</table>\n"
            ],
            "text/markdown": "\nA data.frame: 6 × 4\n\n| <!--/--> | Dia_semana &lt;chr&gt; | Temperatura &lt;dbl&gt; | Llueve &lt;lgl&gt; | Estacion &lt;chr&gt; |\n|---|---|---|---|---|\n| 95 | J | 25.37488 | FALSE | E3 |\n| 96 | V | 26.78591 | FALSE | E3 |\n| 97 | S | 17.61203 |  TRUE | E3 |\n| 98 | D | 25.75089 | FALSE | E3 |\n| 99 | L | 30.38006 | FALSE | E3 |\n| 100 | M | 18.50266 |  TRUE | E3 |\n\n",
            "text/latex": "A data.frame: 6 × 4\n\\begin{tabular}{r|llll}\n  & Dia\\_semana & Temperatura & Llueve & Estacion\\\\\n  & <chr> & <dbl> & <lgl> & <chr>\\\\\n\\hline\n\t95 & J & 25.37488 & FALSE & E3\\\\\n\t96 & V & 26.78591 & FALSE & E3\\\\\n\t97 & S & 17.61203 &  TRUE & E3\\\\\n\t98 & D & 25.75089 & FALSE & E3\\\\\n\t99 & L & 30.38006 & FALSE & E3\\\\\n\t100 & M & 18.50266 &  TRUE & E3\\\\\n\\end{tabular}\n",
            "text/plain": [
              "    Dia_semana Temperatura Llueve Estacion\n",
              "95  J          25.37488    FALSE  E3      \n",
              "96  V          26.78591    FALSE  E3      \n",
              "97  S          17.61203     TRUE  E3      \n",
              "98  D          25.75089    FALSE  E3      \n",
              "99  L          30.38006    FALSE  E3      \n",
              "100 M          18.50266     TRUE  E3      "
            ]
          },
          "metadata": {}
        }
      ]
    },
    {
      "cell_type": "code",
      "source": [
        "summary(precipitaciones)"
      ],
      "metadata": {
        "id": "1dM9f-gWcWTC",
        "outputId": "5090ba26-de62-4f34-c30a-07df203cacdf",
        "colab": {
          "base_uri": "https://localhost:8080/",
          "height": 143
        }
      },
      "execution_count": null,
      "outputs": [
        {
          "output_type": "display_data",
          "data": {
            "text/plain": [
              "  Dia_semana         Temperatura       Llueve          Estacion        \n",
              " Length:100         Min.   : 1.592   Mode :logical   Length:100        \n",
              " Class :character   1st Qu.:14.609   FALSE:47        Class :character  \n",
              " Mode  :character   Median :18.390   TRUE :53        Mode  :character  \n",
              "                    Mean   :19.749                                     \n",
              "                    3rd Qu.:25.064                                     \n",
              "                    Max.   :40.471                                     "
            ]
          },
          "metadata": {}
        }
      ]
    },
    {
      "cell_type": "markdown",
      "metadata": {
        "id": "kIjelA5sm5Zx"
      },
      "source": [
        "#### Strings como factores\n",
        "Cuando en R se declara una variable como factor, internamente se codifican sus categorías con valores 0 o 1. Por ejemplo, para las variables _Dia_ y _Estacion_ podemos generar sus matriz de diseño, indicando un 1 si el día (o estación) corresponde a la nueva columna generada, 0 si  no:\n",
        "\n",
        " |Dia |Temperatura    |Llueve| Estacion| | Dia.L|Dia.M|Dia.W|Dia.J|Dia.V|Dia.S|Dia.D|Est.1|Est.2|Est.3|\n",
        " |----|------------   |------|---------| |---   |---  |---  |---  |---  |---  |---  |---  |---  |---  |\n",
        " |L\t  |16.300201      |TRUE  |\tE1     | |1     |0    |0    |0    |0    |0    |0    |1    |0    |0    |\n",
        " |M   |21.042854      |FALSE |\tE1     | |0     |1    |0    |0    |0    |0    |0    |1    |0    |0    |\n",
        " |J\t  |31.256043      |FALSE |\tE3     | |0     |0    |0    |1    |0    |0    |0    |0    |0    |1    |\n",
        " |S\t  |40.083514      |FALSE |\tE3     | |0     |0    |0    |0    |0    |1    |0    |0    |0    |1    |\n",
        "\n",
        " Cuando se quiere generar un resumen de una variable categórica, o cuando se quiere incluir una variable de este tipo en el entrenamiento de un modelo será necesario declarar dicha variable como factor."
      ]
    },
    {
      "cell_type": "code",
      "metadata": {
        "trusted": true,
        "id": "UQN71LvGm5Z-"
      },
      "source": [
        "#podemos volver a coercionar las columnas a clase factor,  con la función as.factor\n",
        "precipitaciones$Dia_semana <- as.factor (precipitaciones$Dia_semana)\n",
        "precipitaciones$Estacion <- as.factor(precipitaciones$Estacion)\n"
      ],
      "execution_count": null,
      "outputs": []
    },
    {
      "cell_type": "code",
      "source": [
        "head(precipitaciones)"
      ],
      "metadata": {
        "id": "m5qbUZhgh2SX",
        "outputId": "3389bbf3-db51-47d6-adad-5f3c591d415e",
        "colab": {
          "base_uri": "https://localhost:8080/",
          "height": 286
        }
      },
      "execution_count": null,
      "outputs": [
        {
          "output_type": "display_data",
          "data": {
            "text/html": [
              "<table class=\"dataframe\">\n",
              "<caption>A data.frame: 6 × 4</caption>\n",
              "<thead>\n",
              "\t<tr><th></th><th scope=col>Dia_semana</th><th scope=col>Temperatura</th><th scope=col>Llueve</th><th scope=col>Estacion</th></tr>\n",
              "\t<tr><th></th><th scope=col>&lt;chr&gt;</th><th scope=col>&lt;dbl&gt;</th><th scope=col>&lt;lgl&gt;</th><th scope=col>&lt;chr&gt;</th></tr>\n",
              "</thead>\n",
              "<tbody>\n",
              "\t<tr><th scope=row>1</th><td>L</td><td>28.047398</td><td>FALSE</td><td>E1</td></tr>\n",
              "\t<tr><th scope=row>2</th><td>M</td><td>40.600749</td><td>FALSE</td><td>E1</td></tr>\n",
              "\t<tr><th scope=row>3</th><td>W</td><td>34.177870</td><td>FALSE</td><td>E1</td></tr>\n",
              "\t<tr><th scope=row>4</th><td>J</td><td>37.614694</td><td>FALSE</td><td>E1</td></tr>\n",
              "\t<tr><th scope=row>5</th><td>V</td><td>28.147801</td><td>FALSE</td><td>E1</td></tr>\n",
              "\t<tr><th scope=row>6</th><td>S</td><td> 2.192955</td><td> TRUE</td><td>E1</td></tr>\n",
              "</tbody>\n",
              "</table>\n"
            ],
            "text/markdown": "\nA data.frame: 6 × 4\n\n| <!--/--> | Dia_semana &lt;chr&gt; | Temperatura &lt;dbl&gt; | Llueve &lt;lgl&gt; | Estacion &lt;chr&gt; |\n|---|---|---|---|---|\n| 1 | L | 28.047398 | FALSE | E1 |\n| 2 | M | 40.600749 | FALSE | E1 |\n| 3 | W | 34.177870 | FALSE | E1 |\n| 4 | J | 37.614694 | FALSE | E1 |\n| 5 | V | 28.147801 | FALSE | E1 |\n| 6 | S |  2.192955 |  TRUE | E1 |\n\n",
            "text/latex": "A data.frame: 6 × 4\n\\begin{tabular}{r|llll}\n  & Dia\\_semana & Temperatura & Llueve & Estacion\\\\\n  & <chr> & <dbl> & <lgl> & <chr>\\\\\n\\hline\n\t1 & L & 28.047398 & FALSE & E1\\\\\n\t2 & M & 40.600749 & FALSE & E1\\\\\n\t3 & W & 34.177870 & FALSE & E1\\\\\n\t4 & J & 37.614694 & FALSE & E1\\\\\n\t5 & V & 28.147801 & FALSE & E1\\\\\n\t6 & S &  2.192955 &  TRUE & E1\\\\\n\\end{tabular}\n",
            "text/plain": [
              "  Dia_semana Temperatura Llueve Estacion\n",
              "1 L          28.047398   FALSE  E1      \n",
              "2 M          40.600749   FALSE  E1      \n",
              "3 W          34.177870   FALSE  E1      \n",
              "4 J          37.614694   FALSE  E1      \n",
              "5 V          28.147801   FALSE  E1      \n",
              "6 S           2.192955    TRUE  E1      "
            ]
          },
          "metadata": {}
        }
      ]
    },
    {
      "cell_type": "code",
      "metadata": {
        "trusted": true,
        "id": "5kjmwaOUm5aA",
        "outputId": "738d55a4-50c7-416c-e7c3-8ad1e467ec84",
        "colab": {
          "base_uri": "https://localhost:8080/",
          "height": 69
        }
      },
      "source": [
        "# Un poco de exploración --------------------------------\n",
        "# ¿Cuál es la temperatura promedio cuando llovió?\n",
        "mean(precipitaciones[precipitaciones$Llueve == TRUE,\"Temperatura\"])\n",
        "\n",
        "mean(precipitaciones[precipitaciones$Llueve == TRUE,\"Temperatura\" ])\n",
        "\n",
        "# ¿Cuál es la temperatura promedio cuando NO llovió?\n",
        "mean(precipitaciones[!precipitaciones$Llueve == TRUE,\"Temperatura\"])\n",
        "\n",
        "\n",
        "#Lo mismo pero sólo de los registros de E1\n",
        "\n"
      ],
      "execution_count": null,
      "outputs": [
        {
          "output_type": "display_data",
          "data": {
            "text/html": [
              "14.9415528490846"
            ],
            "text/markdown": "14.9415528490846",
            "text/latex": "14.9415528490846",
            "text/plain": [
              "[1] 14.94155"
            ]
          },
          "metadata": {}
        },
        {
          "output_type": "display_data",
          "data": {
            "text/html": [
              "14.9415528490846"
            ],
            "text/markdown": "14.9415528490846",
            "text/latex": "14.9415528490846",
            "text/plain": [
              "[1] 14.94155"
            ]
          },
          "metadata": {}
        },
        {
          "output_type": "display_data",
          "data": {
            "text/html": [
              "27.4878611999736"
            ],
            "text/markdown": "27.4878611999736",
            "text/latex": "27.4878611999736",
            "text/plain": [
              "[1] 27.48786"
            ]
          },
          "metadata": {}
        }
      ]
    },
    {
      "cell_type": "code",
      "metadata": {
        "trusted": true,
        "id": "TJuAlpPxm5aC",
        "outputId": "3a767955-73dd-4433-ba4a-74474db166b2",
        "colab": {
          "base_uri": "https://localhost:8080/",
          "height": 52
        }
      },
      "source": [
        "# ¿Qué día era cuando se alcanzó la mínima temperatura?¿y la ,máxima?\n",
        "#La función which.min #o .max . retorna la posición donde se alcanza el min/max de un vector.\n",
        "\n",
        "# opcion 1\n",
        "Fila_mean <- which.min(precipitaciones$Temperatura)\n",
        "precipitaciones[Fila_mean, \"Dia_semana\"]\n",
        "# opcion 2\n",
        "fila_min_temp <- which.min(precipitaciones$Temperatura)\n",
        "precipitaciones[fila_min_temp, \"Dia_semana\"]\n"
      ],
      "execution_count": null,
      "outputs": [
        {
          "output_type": "display_data",
          "data": {
            "text/html": [
              "'D'"
            ],
            "text/markdown": "'D'",
            "text/latex": "'D'",
            "text/plain": [
              "[1] \"D\""
            ]
          },
          "metadata": {}
        },
        {
          "output_type": "display_data",
          "data": {
            "text/html": [
              "'D'"
            ],
            "text/markdown": "'D'",
            "text/latex": "'D'",
            "text/plain": [
              "[1] \"D\""
            ]
          },
          "metadata": {}
        }
      ]
    },
    {
      "cell_type": "code",
      "metadata": {
        "trusted": true,
        "id": "WHf5YnPWm5aF",
        "outputId": "e21d0798-6eac-4eb9-e8a6-fb13c3a80c9b",
        "colab": {
          "base_uri": "https://localhost:8080/",
          "height": 52
        }
      },
      "source": [
        "# Una forma de eliminar registros en vector\n",
        "ej <- c(1,2,3)\n",
        "ej\n",
        "\n",
        "ej[c(2)]"
      ],
      "execution_count": null,
      "outputs": [
        {
          "output_type": "display_data",
          "data": {
            "text/html": [
              "<style>\n",
              ".list-inline {list-style: none; margin:0; padding: 0}\n",
              ".list-inline>li {display: inline-block}\n",
              ".list-inline>li:not(:last-child)::after {content: \"\\00b7\"; padding: 0 .5ex}\n",
              "</style>\n",
              "<ol class=list-inline><li>1</li><li>2</li><li>3</li></ol>\n"
            ],
            "text/markdown": "1. 1\n2. 2\n3. 3\n\n\n",
            "text/latex": "\\begin{enumerate*}\n\\item 1\n\\item 2\n\\item 3\n\\end{enumerate*}\n",
            "text/plain": [
              "[1] 1 2 3"
            ]
          },
          "metadata": {}
        },
        {
          "output_type": "display_data",
          "data": {
            "text/html": [
              "2"
            ],
            "text/markdown": "2",
            "text/latex": "2",
            "text/plain": [
              "[1] 2"
            ]
          },
          "metadata": {}
        }
      ]
    },
    {
      "cell_type": "code",
      "metadata": {
        "trusted": true,
        "id": "6Vx1ojnAm5aH",
        "outputId": "c96c9347-c1e2-4543-fce4-50f155016deb",
        "colab": {
          "base_uri": "https://localhost:8080/",
          "height": 1000
        }
      },
      "source": [
        "# POdemos eliminar los registros de posición 3 y 4\n",
        "precipitaciones[-c(1,3),]\n",
        "precipitaciones[-c(1,3)]"
      ],
      "execution_count": null,
      "outputs": [
        {
          "output_type": "display_data",
          "data": {
            "text/html": [
              "<table class=\"dataframe\">\n",
              "<caption>A data.frame: 98 × 4</caption>\n",
              "<thead>\n",
              "\t<tr><th></th><th scope=col>Dia_semana</th><th scope=col>Temperatura</th><th scope=col>Llueve</th><th scope=col>Estacion</th></tr>\n",
              "\t<tr><th></th><th scope=col>&lt;chr&gt;</th><th scope=col>&lt;dbl&gt;</th><th scope=col>&lt;lgl&gt;</th><th scope=col>&lt;chr&gt;</th></tr>\n",
              "</thead>\n",
              "<tbody>\n",
              "\t<tr><th scope=row>2</th><td>M</td><td>40.600749</td><td>FALSE</td><td>E1</td></tr>\n",
              "\t<tr><th scope=row>4</th><td>J</td><td>37.614694</td><td>FALSE</td><td>E1</td></tr>\n",
              "\t<tr><th scope=row>5</th><td>V</td><td>28.147801</td><td>FALSE</td><td>E1</td></tr>\n",
              "\t<tr><th scope=row>6</th><td>S</td><td> 2.192955</td><td> TRUE</td><td>E1</td></tr>\n",
              "\t<tr><th scope=row>7</th><td>D</td><td>26.597622</td><td>FALSE</td><td>E1</td></tr>\n",
              "\t<tr><th scope=row>8</th><td>L</td><td> 8.242464</td><td> TRUE</td><td>E1</td></tr>\n",
              "\t<tr><th scope=row>9</th><td>M</td><td>23.973565</td><td>FALSE</td><td>E1</td></tr>\n",
              "\t<tr><th scope=row>10</th><td>W</td><td>15.222881</td><td> TRUE</td><td>E1</td></tr>\n",
              "\t<tr><th scope=row>11</th><td>J</td><td>15.057519</td><td> TRUE</td><td>E1</td></tr>\n",
              "\t<tr><th scope=row>12</th><td>V</td><td>13.378974</td><td> TRUE</td><td>E1</td></tr>\n",
              "\t<tr><th scope=row>13</th><td>S</td><td>34.996026</td><td>FALSE</td><td>E1</td></tr>\n",
              "\t<tr><th scope=row>14</th><td>D</td><td>25.744968</td><td>FALSE</td><td>E1</td></tr>\n",
              "\t<tr><th scope=row>15</th><td>L</td><td>31.089475</td><td>FALSE</td><td>E1</td></tr>\n",
              "\t<tr><th scope=row>16</th><td>M</td><td>16.558664</td><td> TRUE</td><td>E1</td></tr>\n",
              "\t<tr><th scope=row>17</th><td>W</td><td>15.943889</td><td> TRUE</td><td>E1</td></tr>\n",
              "\t<tr><th scope=row>18</th><td>J</td><td>30.148004</td><td>FALSE</td><td>E1</td></tr>\n",
              "\t<tr><th scope=row>19</th><td>V</td><td>14.272358</td><td> TRUE</td><td>E1</td></tr>\n",
              "\t<tr><th scope=row>20</th><td>S</td><td>14.796715</td><td> TRUE</td><td>E1</td></tr>\n",
              "\t<tr><th scope=row>21</th><td>D</td><td>26.151556</td><td>FALSE</td><td>E1</td></tr>\n",
              "\t<tr><th scope=row>22</th><td>L</td><td>25.297946</td><td>FALSE</td><td>E1</td></tr>\n",
              "\t<tr><th scope=row>23</th><td>M</td><td>17.973586</td><td> TRUE</td><td>E1</td></tr>\n",
              "\t<tr><th scope=row>24</th><td>W</td><td>27.352739</td><td>FALSE</td><td>E1</td></tr>\n",
              "\t<tr><th scope=row>25</th><td>J</td><td>41.177212</td><td>FALSE</td><td>E1</td></tr>\n",
              "\t<tr><th scope=row>26</th><td>V</td><td>14.252425</td><td> TRUE</td><td>E1</td></tr>\n",
              "\t<tr><th scope=row>27</th><td>S</td><td>14.802777</td><td> TRUE</td><td>E1</td></tr>\n",
              "\t<tr><th scope=row>28</th><td>D</td><td>13.785511</td><td> TRUE</td><td>E1</td></tr>\n",
              "\t<tr><th scope=row>29</th><td>L</td><td>17.876141</td><td> TRUE</td><td>E1</td></tr>\n",
              "\t<tr><th scope=row>30</th><td>M</td><td>29.711650</td><td>FALSE</td><td>E1</td></tr>\n",
              "\t<tr><th scope=row>31</th><td>W</td><td>24.556527</td><td>FALSE</td><td>E1</td></tr>\n",
              "\t<tr><th scope=row>32</th><td>J</td><td>15.965061</td><td> TRUE</td><td>E1</td></tr>\n",
              "\t<tr><th scope=row>⋮</th><td>⋮</td><td>⋮</td><td>⋮</td><td>⋮</td></tr>\n",
              "\t<tr><th scope=row>71</th><td>L</td><td>18.354159</td><td> TRUE</td><td>E3</td></tr>\n",
              "\t<tr><th scope=row>72</th><td>M</td><td>23.134509</td><td>FALSE</td><td>E3</td></tr>\n",
              "\t<tr><th scope=row>73</th><td>W</td><td>24.375969</td><td>FALSE</td><td>E3</td></tr>\n",
              "\t<tr><th scope=row>74</th><td>J</td><td>19.767400</td><td> TRUE</td><td>E3</td></tr>\n",
              "\t<tr><th scope=row>75</th><td>V</td><td>19.308526</td><td> TRUE</td><td>E3</td></tr>\n",
              "\t<tr><th scope=row>76</th><td>S</td><td>17.559938</td><td> TRUE</td><td>E3</td></tr>\n",
              "\t<tr><th scope=row>77</th><td>D</td><td>21.313193</td><td>FALSE</td><td>E3</td></tr>\n",
              "\t<tr><th scope=row>78</th><td>L</td><td>43.366271</td><td>FALSE</td><td>E3</td></tr>\n",
              "\t<tr><th scope=row>79</th><td>M</td><td>20.560555</td><td>FALSE</td><td>E3</td></tr>\n",
              "\t<tr><th scope=row>80</th><td>W</td><td>21.975678</td><td>FALSE</td><td>E3</td></tr>\n",
              "\t<tr><th scope=row>81</th><td>J</td><td>19.459000</td><td> TRUE</td><td>E3</td></tr>\n",
              "\t<tr><th scope=row>82</th><td>V</td><td>17.949046</td><td> TRUE</td><td>E3</td></tr>\n",
              "\t<tr><th scope=row>83</th><td>S</td><td>27.543669</td><td>FALSE</td><td>E3</td></tr>\n",
              "\t<tr><th scope=row>84</th><td>D</td><td>10.967262</td><td> TRUE</td><td>E3</td></tr>\n",
              "\t<tr><th scope=row>85</th><td>L</td><td>21.726113</td><td>FALSE</td><td>E3</td></tr>\n",
              "\t<tr><th scope=row>86</th><td>M</td><td>27.771144</td><td>FALSE</td><td>E3</td></tr>\n",
              "\t<tr><th scope=row>87</th><td>W</td><td>18.380296</td><td> TRUE</td><td>E3</td></tr>\n",
              "\t<tr><th scope=row>88</th><td>J</td><td>18.746347</td><td> TRUE</td><td>E3</td></tr>\n",
              "\t<tr><th scope=row>89</th><td>V</td><td>22.974699</td><td>FALSE</td><td>E3</td></tr>\n",
              "\t<tr><th scope=row>90</th><td>S</td><td>23.528175</td><td>FALSE</td><td>E3</td></tr>\n",
              "\t<tr><th scope=row>91</th><td>D</td><td>-1.230766</td><td> TRUE</td><td>E3</td></tr>\n",
              "\t<tr><th scope=row>92</th><td>L</td><td>24.885479</td><td>FALSE</td><td>E3</td></tr>\n",
              "\t<tr><th scope=row>93</th><td>M</td><td>12.778953</td><td> TRUE</td><td>E3</td></tr>\n",
              "\t<tr><th scope=row>94</th><td>W</td><td>24.890128</td><td>FALSE</td><td>E3</td></tr>\n",
              "\t<tr><th scope=row>95</th><td>J</td><td>25.374885</td><td>FALSE</td><td>E3</td></tr>\n",
              "\t<tr><th scope=row>96</th><td>V</td><td>26.785913</td><td>FALSE</td><td>E3</td></tr>\n",
              "\t<tr><th scope=row>97</th><td>S</td><td>17.612031</td><td> TRUE</td><td>E3</td></tr>\n",
              "\t<tr><th scope=row>98</th><td>D</td><td>25.750895</td><td>FALSE</td><td>E3</td></tr>\n",
              "\t<tr><th scope=row>99</th><td>L</td><td>30.380064</td><td>FALSE</td><td>E3</td></tr>\n",
              "\t<tr><th scope=row>100</th><td>M</td><td>18.502655</td><td> TRUE</td><td>E3</td></tr>\n",
              "</tbody>\n",
              "</table>\n"
            ],
            "text/markdown": "\nA data.frame: 98 × 4\n\n| <!--/--> | Dia_semana &lt;chr&gt; | Temperatura &lt;dbl&gt; | Llueve &lt;lgl&gt; | Estacion &lt;chr&gt; |\n|---|---|---|---|---|\n| 2 | M | 40.600749 | FALSE | E1 |\n| 4 | J | 37.614694 | FALSE | E1 |\n| 5 | V | 28.147801 | FALSE | E1 |\n| 6 | S |  2.192955 |  TRUE | E1 |\n| 7 | D | 26.597622 | FALSE | E1 |\n| 8 | L |  8.242464 |  TRUE | E1 |\n| 9 | M | 23.973565 | FALSE | E1 |\n| 10 | W | 15.222881 |  TRUE | E1 |\n| 11 | J | 15.057519 |  TRUE | E1 |\n| 12 | V | 13.378974 |  TRUE | E1 |\n| 13 | S | 34.996026 | FALSE | E1 |\n| 14 | D | 25.744968 | FALSE | E1 |\n| 15 | L | 31.089475 | FALSE | E1 |\n| 16 | M | 16.558664 |  TRUE | E1 |\n| 17 | W | 15.943889 |  TRUE | E1 |\n| 18 | J | 30.148004 | FALSE | E1 |\n| 19 | V | 14.272358 |  TRUE | E1 |\n| 20 | S | 14.796715 |  TRUE | E1 |\n| 21 | D | 26.151556 | FALSE | E1 |\n| 22 | L | 25.297946 | FALSE | E1 |\n| 23 | M | 17.973586 |  TRUE | E1 |\n| 24 | W | 27.352739 | FALSE | E1 |\n| 25 | J | 41.177212 | FALSE | E1 |\n| 26 | V | 14.252425 |  TRUE | E1 |\n| 27 | S | 14.802777 |  TRUE | E1 |\n| 28 | D | 13.785511 |  TRUE | E1 |\n| 29 | L | 17.876141 |  TRUE | E1 |\n| 30 | M | 29.711650 | FALSE | E1 |\n| 31 | W | 24.556527 | FALSE | E1 |\n| 32 | J | 15.965061 |  TRUE | E1 |\n| ⋮ | ⋮ | ⋮ | ⋮ | ⋮ |\n| 71 | L | 18.354159 |  TRUE | E3 |\n| 72 | M | 23.134509 | FALSE | E3 |\n| 73 | W | 24.375969 | FALSE | E3 |\n| 74 | J | 19.767400 |  TRUE | E3 |\n| 75 | V | 19.308526 |  TRUE | E3 |\n| 76 | S | 17.559938 |  TRUE | E3 |\n| 77 | D | 21.313193 | FALSE | E3 |\n| 78 | L | 43.366271 | FALSE | E3 |\n| 79 | M | 20.560555 | FALSE | E3 |\n| 80 | W | 21.975678 | FALSE | E3 |\n| 81 | J | 19.459000 |  TRUE | E3 |\n| 82 | V | 17.949046 |  TRUE | E3 |\n| 83 | S | 27.543669 | FALSE | E3 |\n| 84 | D | 10.967262 |  TRUE | E3 |\n| 85 | L | 21.726113 | FALSE | E3 |\n| 86 | M | 27.771144 | FALSE | E3 |\n| 87 | W | 18.380296 |  TRUE | E3 |\n| 88 | J | 18.746347 |  TRUE | E3 |\n| 89 | V | 22.974699 | FALSE | E3 |\n| 90 | S | 23.528175 | FALSE | E3 |\n| 91 | D | -1.230766 |  TRUE | E3 |\n| 92 | L | 24.885479 | FALSE | E3 |\n| 93 | M | 12.778953 |  TRUE | E3 |\n| 94 | W | 24.890128 | FALSE | E3 |\n| 95 | J | 25.374885 | FALSE | E3 |\n| 96 | V | 26.785913 | FALSE | E3 |\n| 97 | S | 17.612031 |  TRUE | E3 |\n| 98 | D | 25.750895 | FALSE | E3 |\n| 99 | L | 30.380064 | FALSE | E3 |\n| 100 | M | 18.502655 |  TRUE | E3 |\n\n",
            "text/latex": "A data.frame: 98 × 4\n\\begin{tabular}{r|llll}\n  & Dia\\_semana & Temperatura & Llueve & Estacion\\\\\n  & <chr> & <dbl> & <lgl> & <chr>\\\\\n\\hline\n\t2 & M & 40.600749 & FALSE & E1\\\\\n\t4 & J & 37.614694 & FALSE & E1\\\\\n\t5 & V & 28.147801 & FALSE & E1\\\\\n\t6 & S &  2.192955 &  TRUE & E1\\\\\n\t7 & D & 26.597622 & FALSE & E1\\\\\n\t8 & L &  8.242464 &  TRUE & E1\\\\\n\t9 & M & 23.973565 & FALSE & E1\\\\\n\t10 & W & 15.222881 &  TRUE & E1\\\\\n\t11 & J & 15.057519 &  TRUE & E1\\\\\n\t12 & V & 13.378974 &  TRUE & E1\\\\\n\t13 & S & 34.996026 & FALSE & E1\\\\\n\t14 & D & 25.744968 & FALSE & E1\\\\\n\t15 & L & 31.089475 & FALSE & E1\\\\\n\t16 & M & 16.558664 &  TRUE & E1\\\\\n\t17 & W & 15.943889 &  TRUE & E1\\\\\n\t18 & J & 30.148004 & FALSE & E1\\\\\n\t19 & V & 14.272358 &  TRUE & E1\\\\\n\t20 & S & 14.796715 &  TRUE & E1\\\\\n\t21 & D & 26.151556 & FALSE & E1\\\\\n\t22 & L & 25.297946 & FALSE & E1\\\\\n\t23 & M & 17.973586 &  TRUE & E1\\\\\n\t24 & W & 27.352739 & FALSE & E1\\\\\n\t25 & J & 41.177212 & FALSE & E1\\\\\n\t26 & V & 14.252425 &  TRUE & E1\\\\\n\t27 & S & 14.802777 &  TRUE & E1\\\\\n\t28 & D & 13.785511 &  TRUE & E1\\\\\n\t29 & L & 17.876141 &  TRUE & E1\\\\\n\t30 & M & 29.711650 & FALSE & E1\\\\\n\t31 & W & 24.556527 & FALSE & E1\\\\\n\t32 & J & 15.965061 &  TRUE & E1\\\\\n\t⋮ & ⋮ & ⋮ & ⋮ & ⋮\\\\\n\t71 & L & 18.354159 &  TRUE & E3\\\\\n\t72 & M & 23.134509 & FALSE & E3\\\\\n\t73 & W & 24.375969 & FALSE & E3\\\\\n\t74 & J & 19.767400 &  TRUE & E3\\\\\n\t75 & V & 19.308526 &  TRUE & E3\\\\\n\t76 & S & 17.559938 &  TRUE & E3\\\\\n\t77 & D & 21.313193 & FALSE & E3\\\\\n\t78 & L & 43.366271 & FALSE & E3\\\\\n\t79 & M & 20.560555 & FALSE & E3\\\\\n\t80 & W & 21.975678 & FALSE & E3\\\\\n\t81 & J & 19.459000 &  TRUE & E3\\\\\n\t82 & V & 17.949046 &  TRUE & E3\\\\\n\t83 & S & 27.543669 & FALSE & E3\\\\\n\t84 & D & 10.967262 &  TRUE & E3\\\\\n\t85 & L & 21.726113 & FALSE & E3\\\\\n\t86 & M & 27.771144 & FALSE & E3\\\\\n\t87 & W & 18.380296 &  TRUE & E3\\\\\n\t88 & J & 18.746347 &  TRUE & E3\\\\\n\t89 & V & 22.974699 & FALSE & E3\\\\\n\t90 & S & 23.528175 & FALSE & E3\\\\\n\t91 & D & -1.230766 &  TRUE & E3\\\\\n\t92 & L & 24.885479 & FALSE & E3\\\\\n\t93 & M & 12.778953 &  TRUE & E3\\\\\n\t94 & W & 24.890128 & FALSE & E3\\\\\n\t95 & J & 25.374885 & FALSE & E3\\\\\n\t96 & V & 26.785913 & FALSE & E3\\\\\n\t97 & S & 17.612031 &  TRUE & E3\\\\\n\t98 & D & 25.750895 & FALSE & E3\\\\\n\t99 & L & 30.380064 & FALSE & E3\\\\\n\t100 & M & 18.502655 &  TRUE & E3\\\\\n\\end{tabular}\n",
            "text/plain": [
              "    Dia_semana Temperatura Llueve Estacion\n",
              "2   M          40.600749   FALSE  E1      \n",
              "4   J          37.614694   FALSE  E1      \n",
              "5   V          28.147801   FALSE  E1      \n",
              "6   S           2.192955    TRUE  E1      \n",
              "7   D          26.597622   FALSE  E1      \n",
              "8   L           8.242464    TRUE  E1      \n",
              "9   M          23.973565   FALSE  E1      \n",
              "10  W          15.222881    TRUE  E1      \n",
              "11  J          15.057519    TRUE  E1      \n",
              "12  V          13.378974    TRUE  E1      \n",
              "13  S          34.996026   FALSE  E1      \n",
              "14  D          25.744968   FALSE  E1      \n",
              "15  L          31.089475   FALSE  E1      \n",
              "16  M          16.558664    TRUE  E1      \n",
              "17  W          15.943889    TRUE  E1      \n",
              "18  J          30.148004   FALSE  E1      \n",
              "19  V          14.272358    TRUE  E1      \n",
              "20  S          14.796715    TRUE  E1      \n",
              "21  D          26.151556   FALSE  E1      \n",
              "22  L          25.297946   FALSE  E1      \n",
              "23  M          17.973586    TRUE  E1      \n",
              "24  W          27.352739   FALSE  E1      \n",
              "25  J          41.177212   FALSE  E1      \n",
              "26  V          14.252425    TRUE  E1      \n",
              "27  S          14.802777    TRUE  E1      \n",
              "28  D          13.785511    TRUE  E1      \n",
              "29  L          17.876141    TRUE  E1      \n",
              "30  M          29.711650   FALSE  E1      \n",
              "31  W          24.556527   FALSE  E1      \n",
              "32  J          15.965061    TRUE  E1      \n",
              "⋮   ⋮          ⋮           ⋮      ⋮       \n",
              "71  L          18.354159    TRUE  E3      \n",
              "72  M          23.134509   FALSE  E3      \n",
              "73  W          24.375969   FALSE  E3      \n",
              "74  J          19.767400    TRUE  E3      \n",
              "75  V          19.308526    TRUE  E3      \n",
              "76  S          17.559938    TRUE  E3      \n",
              "77  D          21.313193   FALSE  E3      \n",
              "78  L          43.366271   FALSE  E3      \n",
              "79  M          20.560555   FALSE  E3      \n",
              "80  W          21.975678   FALSE  E3      \n",
              "81  J          19.459000    TRUE  E3      \n",
              "82  V          17.949046    TRUE  E3      \n",
              "83  S          27.543669   FALSE  E3      \n",
              "84  D          10.967262    TRUE  E3      \n",
              "85  L          21.726113   FALSE  E3      \n",
              "86  M          27.771144   FALSE  E3      \n",
              "87  W          18.380296    TRUE  E3      \n",
              "88  J          18.746347    TRUE  E3      \n",
              "89  V          22.974699   FALSE  E3      \n",
              "90  S          23.528175   FALSE  E3      \n",
              "91  D          -1.230766    TRUE  E3      \n",
              "92  L          24.885479   FALSE  E3      \n",
              "93  M          12.778953    TRUE  E3      \n",
              "94  W          24.890128   FALSE  E3      \n",
              "95  J          25.374885   FALSE  E3      \n",
              "96  V          26.785913   FALSE  E3      \n",
              "97  S          17.612031    TRUE  E3      \n",
              "98  D          25.750895   FALSE  E3      \n",
              "99  L          30.380064   FALSE  E3      \n",
              "100 M          18.502655    TRUE  E3      "
            ]
          },
          "metadata": {}
        },
        {
          "output_type": "display_data",
          "data": {
            "text/html": [
              "<table class=\"dataframe\">\n",
              "<caption>A data.frame: 100 × 2</caption>\n",
              "<thead>\n",
              "\t<tr><th scope=col>Temperatura</th><th scope=col>Estacion</th></tr>\n",
              "\t<tr><th scope=col>&lt;dbl&gt;</th><th scope=col>&lt;chr&gt;</th></tr>\n",
              "</thead>\n",
              "<tbody>\n",
              "\t<tr><td>28.047398</td><td>E1</td></tr>\n",
              "\t<tr><td>40.600749</td><td>E1</td></tr>\n",
              "\t<tr><td>34.177870</td><td>E1</td></tr>\n",
              "\t<tr><td>37.614694</td><td>E1</td></tr>\n",
              "\t<tr><td>28.147801</td><td>E1</td></tr>\n",
              "\t<tr><td> 2.192955</td><td>E1</td></tr>\n",
              "\t<tr><td>26.597622</td><td>E1</td></tr>\n",
              "\t<tr><td> 8.242464</td><td>E1</td></tr>\n",
              "\t<tr><td>23.973565</td><td>E1</td></tr>\n",
              "\t<tr><td>15.222881</td><td>E1</td></tr>\n",
              "\t<tr><td>15.057519</td><td>E1</td></tr>\n",
              "\t<tr><td>13.378974</td><td>E1</td></tr>\n",
              "\t<tr><td>34.996026</td><td>E1</td></tr>\n",
              "\t<tr><td>25.744968</td><td>E1</td></tr>\n",
              "\t<tr><td>31.089475</td><td>E1</td></tr>\n",
              "\t<tr><td>16.558664</td><td>E1</td></tr>\n",
              "\t<tr><td>15.943889</td><td>E1</td></tr>\n",
              "\t<tr><td>30.148004</td><td>E1</td></tr>\n",
              "\t<tr><td>14.272358</td><td>E1</td></tr>\n",
              "\t<tr><td>14.796715</td><td>E1</td></tr>\n",
              "\t<tr><td>26.151556</td><td>E1</td></tr>\n",
              "\t<tr><td>25.297946</td><td>E1</td></tr>\n",
              "\t<tr><td>17.973586</td><td>E1</td></tr>\n",
              "\t<tr><td>27.352739</td><td>E1</td></tr>\n",
              "\t<tr><td>41.177212</td><td>E1</td></tr>\n",
              "\t<tr><td>14.252425</td><td>E1</td></tr>\n",
              "\t<tr><td>14.802777</td><td>E1</td></tr>\n",
              "\t<tr><td>13.785511</td><td>E1</td></tr>\n",
              "\t<tr><td>17.876141</td><td>E1</td></tr>\n",
              "\t<tr><td>29.711650</td><td>E1</td></tr>\n",
              "\t<tr><td>⋮</td><td>⋮</td></tr>\n",
              "\t<tr><td>18.354159</td><td>E3</td></tr>\n",
              "\t<tr><td>23.134509</td><td>E3</td></tr>\n",
              "\t<tr><td>24.375969</td><td>E3</td></tr>\n",
              "\t<tr><td>19.767400</td><td>E3</td></tr>\n",
              "\t<tr><td>19.308526</td><td>E3</td></tr>\n",
              "\t<tr><td>17.559938</td><td>E3</td></tr>\n",
              "\t<tr><td>21.313193</td><td>E3</td></tr>\n",
              "\t<tr><td>43.366271</td><td>E3</td></tr>\n",
              "\t<tr><td>20.560555</td><td>E3</td></tr>\n",
              "\t<tr><td>21.975678</td><td>E3</td></tr>\n",
              "\t<tr><td>19.459000</td><td>E3</td></tr>\n",
              "\t<tr><td>17.949046</td><td>E3</td></tr>\n",
              "\t<tr><td>27.543669</td><td>E3</td></tr>\n",
              "\t<tr><td>10.967262</td><td>E3</td></tr>\n",
              "\t<tr><td>21.726113</td><td>E3</td></tr>\n",
              "\t<tr><td>27.771144</td><td>E3</td></tr>\n",
              "\t<tr><td>18.380296</td><td>E3</td></tr>\n",
              "\t<tr><td>18.746347</td><td>E3</td></tr>\n",
              "\t<tr><td>22.974699</td><td>E3</td></tr>\n",
              "\t<tr><td>23.528175</td><td>E3</td></tr>\n",
              "\t<tr><td>-1.230766</td><td>E3</td></tr>\n",
              "\t<tr><td>24.885479</td><td>E3</td></tr>\n",
              "\t<tr><td>12.778953</td><td>E3</td></tr>\n",
              "\t<tr><td>24.890128</td><td>E3</td></tr>\n",
              "\t<tr><td>25.374885</td><td>E3</td></tr>\n",
              "\t<tr><td>26.785913</td><td>E3</td></tr>\n",
              "\t<tr><td>17.612031</td><td>E3</td></tr>\n",
              "\t<tr><td>25.750895</td><td>E3</td></tr>\n",
              "\t<tr><td>30.380064</td><td>E3</td></tr>\n",
              "\t<tr><td>18.502655</td><td>E3</td></tr>\n",
              "</tbody>\n",
              "</table>\n"
            ],
            "text/markdown": "\nA data.frame: 100 × 2\n\n| Temperatura &lt;dbl&gt; | Estacion &lt;chr&gt; |\n|---|---|\n| 28.047398 | E1 |\n| 40.600749 | E1 |\n| 34.177870 | E1 |\n| 37.614694 | E1 |\n| 28.147801 | E1 |\n|  2.192955 | E1 |\n| 26.597622 | E1 |\n|  8.242464 | E1 |\n| 23.973565 | E1 |\n| 15.222881 | E1 |\n| 15.057519 | E1 |\n| 13.378974 | E1 |\n| 34.996026 | E1 |\n| 25.744968 | E1 |\n| 31.089475 | E1 |\n| 16.558664 | E1 |\n| 15.943889 | E1 |\n| 30.148004 | E1 |\n| 14.272358 | E1 |\n| 14.796715 | E1 |\n| 26.151556 | E1 |\n| 25.297946 | E1 |\n| 17.973586 | E1 |\n| 27.352739 | E1 |\n| 41.177212 | E1 |\n| 14.252425 | E1 |\n| 14.802777 | E1 |\n| 13.785511 | E1 |\n| 17.876141 | E1 |\n| 29.711650 | E1 |\n| ⋮ | ⋮ |\n| 18.354159 | E3 |\n| 23.134509 | E3 |\n| 24.375969 | E3 |\n| 19.767400 | E3 |\n| 19.308526 | E3 |\n| 17.559938 | E3 |\n| 21.313193 | E3 |\n| 43.366271 | E3 |\n| 20.560555 | E3 |\n| 21.975678 | E3 |\n| 19.459000 | E3 |\n| 17.949046 | E3 |\n| 27.543669 | E3 |\n| 10.967262 | E3 |\n| 21.726113 | E3 |\n| 27.771144 | E3 |\n| 18.380296 | E3 |\n| 18.746347 | E3 |\n| 22.974699 | E3 |\n| 23.528175 | E3 |\n| -1.230766 | E3 |\n| 24.885479 | E3 |\n| 12.778953 | E3 |\n| 24.890128 | E3 |\n| 25.374885 | E3 |\n| 26.785913 | E3 |\n| 17.612031 | E3 |\n| 25.750895 | E3 |\n| 30.380064 | E3 |\n| 18.502655 | E3 |\n\n",
            "text/latex": "A data.frame: 100 × 2\n\\begin{tabular}{ll}\n Temperatura & Estacion\\\\\n <dbl> & <chr>\\\\\n\\hline\n\t 28.047398 & E1\\\\\n\t 40.600749 & E1\\\\\n\t 34.177870 & E1\\\\\n\t 37.614694 & E1\\\\\n\t 28.147801 & E1\\\\\n\t  2.192955 & E1\\\\\n\t 26.597622 & E1\\\\\n\t  8.242464 & E1\\\\\n\t 23.973565 & E1\\\\\n\t 15.222881 & E1\\\\\n\t 15.057519 & E1\\\\\n\t 13.378974 & E1\\\\\n\t 34.996026 & E1\\\\\n\t 25.744968 & E1\\\\\n\t 31.089475 & E1\\\\\n\t 16.558664 & E1\\\\\n\t 15.943889 & E1\\\\\n\t 30.148004 & E1\\\\\n\t 14.272358 & E1\\\\\n\t 14.796715 & E1\\\\\n\t 26.151556 & E1\\\\\n\t 25.297946 & E1\\\\\n\t 17.973586 & E1\\\\\n\t 27.352739 & E1\\\\\n\t 41.177212 & E1\\\\\n\t 14.252425 & E1\\\\\n\t 14.802777 & E1\\\\\n\t 13.785511 & E1\\\\\n\t 17.876141 & E1\\\\\n\t 29.711650 & E1\\\\\n\t ⋮ & ⋮\\\\\n\t 18.354159 & E3\\\\\n\t 23.134509 & E3\\\\\n\t 24.375969 & E3\\\\\n\t 19.767400 & E3\\\\\n\t 19.308526 & E3\\\\\n\t 17.559938 & E3\\\\\n\t 21.313193 & E3\\\\\n\t 43.366271 & E3\\\\\n\t 20.560555 & E3\\\\\n\t 21.975678 & E3\\\\\n\t 19.459000 & E3\\\\\n\t 17.949046 & E3\\\\\n\t 27.543669 & E3\\\\\n\t 10.967262 & E3\\\\\n\t 21.726113 & E3\\\\\n\t 27.771144 & E3\\\\\n\t 18.380296 & E3\\\\\n\t 18.746347 & E3\\\\\n\t 22.974699 & E3\\\\\n\t 23.528175 & E3\\\\\n\t -1.230766 & E3\\\\\n\t 24.885479 & E3\\\\\n\t 12.778953 & E3\\\\\n\t 24.890128 & E3\\\\\n\t 25.374885 & E3\\\\\n\t 26.785913 & E3\\\\\n\t 17.612031 & E3\\\\\n\t 25.750895 & E3\\\\\n\t 30.380064 & E3\\\\\n\t 18.502655 & E3\\\\\n\\end{tabular}\n",
            "text/plain": [
              "    Temperatura Estacion\n",
              "1   28.047398   E1      \n",
              "2   40.600749   E1      \n",
              "3   34.177870   E1      \n",
              "4   37.614694   E1      \n",
              "5   28.147801   E1      \n",
              "6    2.192955   E1      \n",
              "7   26.597622   E1      \n",
              "8    8.242464   E1      \n",
              "9   23.973565   E1      \n",
              "10  15.222881   E1      \n",
              "11  15.057519   E1      \n",
              "12  13.378974   E1      \n",
              "13  34.996026   E1      \n",
              "14  25.744968   E1      \n",
              "15  31.089475   E1      \n",
              "16  16.558664   E1      \n",
              "17  15.943889   E1      \n",
              "18  30.148004   E1      \n",
              "19  14.272358   E1      \n",
              "20  14.796715   E1      \n",
              "21  26.151556   E1      \n",
              "22  25.297946   E1      \n",
              "23  17.973586   E1      \n",
              "24  27.352739   E1      \n",
              "25  41.177212   E1      \n",
              "26  14.252425   E1      \n",
              "27  14.802777   E1      \n",
              "28  13.785511   E1      \n",
              "29  17.876141   E1      \n",
              "30  29.711650   E1      \n",
              "⋮   ⋮           ⋮       \n",
              "71  18.354159   E3      \n",
              "72  23.134509   E3      \n",
              "73  24.375969   E3      \n",
              "74  19.767400   E3      \n",
              "75  19.308526   E3      \n",
              "76  17.559938   E3      \n",
              "77  21.313193   E3      \n",
              "78  43.366271   E3      \n",
              "79  20.560555   E3      \n",
              "80  21.975678   E3      \n",
              "81  19.459000   E3      \n",
              "82  17.949046   E3      \n",
              "83  27.543669   E3      \n",
              "84  10.967262   E3      \n",
              "85  21.726113   E3      \n",
              "86  27.771144   E3      \n",
              "87  18.380296   E3      \n",
              "88  18.746347   E3      \n",
              "89  22.974699   E3      \n",
              "90  23.528175   E3      \n",
              "91  -1.230766   E3      \n",
              "92  24.885479   E3      \n",
              "93  12.778953   E3      \n",
              "94  24.890128   E3      \n",
              "95  25.374885   E3      \n",
              "96  26.785913   E3      \n",
              "97  17.612031   E3      \n",
              "98  25.750895   E3      \n",
              "99  30.380064   E3      \n",
              "100 18.502655   E3      "
            ]
          },
          "metadata": {}
        }
      ]
    },
    {
      "cell_type": "code",
      "metadata": {
        "trusted": true,
        "id": "K9Qv9n_nm5aJ",
        "outputId": "7bf5423c-d7b8-4999-aff0-3614a2165a6a",
        "colab": {
          "base_uri": "https://localhost:8080/",
          "height": 1000
        }
      },
      "source": [
        "# Si queremos ver esa misma fila de la tabla precipitaciones.\n",
        "precipitaciones[!(precipitaciones$Estacion == \"E\" & precipitaciones$Dia_Semana == \"D\"),]\n",
        "dim(precipitaciones)\n",
        "\n",
        "# Se sabe que la Estación E3 falla todos los días domingo, por lo que se quiere eliminar tales registros de la tabla. Elimínelos!\n",
        "posiciones_eliminar<-which(precipitaciones[,\"Estacion\"]==\"E3\"& precipitaciones[,\"Dia_semana\"]==\"D\")\n",
        "posiciones_eliminar\n",
        "precipitaciones[-posiciones_eliminar,]\n"
      ],
      "execution_count": null,
      "outputs": [
        {
          "output_type": "display_data",
          "data": {
            "text/html": [
              "<table class=\"dataframe\">\n",
              "<caption>A data.frame: 0 × 4</caption>\n",
              "<thead>\n",
              "\t<tr><th scope=col>Dia_semana</th><th scope=col>Temperatura</th><th scope=col>Llueve</th><th scope=col>Estacion</th></tr>\n",
              "\t<tr><th scope=col>&lt;chr&gt;</th><th scope=col>&lt;dbl&gt;</th><th scope=col>&lt;lgl&gt;</th><th scope=col>&lt;chr&gt;</th></tr>\n",
              "</thead>\n",
              "<tbody>\n",
              "</tbody>\n",
              "</table>\n"
            ],
            "text/markdown": "\nA data.frame: 0 × 4\n\n| Dia_semana &lt;chr&gt; | Temperatura &lt;dbl&gt; | Llueve &lt;lgl&gt; | Estacion &lt;chr&gt; |\n|---|---|---|---|\n\n",
            "text/latex": "A data.frame: 0 × 4\n\\begin{tabular}{llll}\n Dia\\_semana & Temperatura & Llueve & Estacion\\\\\n <chr> & <dbl> & <lgl> & <chr>\\\\\n\\hline\n\\end{tabular}\n",
            "text/plain": [
              "     Dia_semana Temperatura Llueve Estacion"
            ]
          },
          "metadata": {}
        },
        {
          "output_type": "display_data",
          "data": {
            "text/html": [
              "<style>\n",
              ".list-inline {list-style: none; margin:0; padding: 0}\n",
              ".list-inline>li {display: inline-block}\n",
              ".list-inline>li:not(:last-child)::after {content: \"\\00b7\"; padding: 0 .5ex}\n",
              "</style>\n",
              "<ol class=list-inline><li>100</li><li>4</li></ol>\n"
            ],
            "text/markdown": "1. 100\n2. 4\n\n\n",
            "text/latex": "\\begin{enumerate*}\n\\item 100\n\\item 4\n\\end{enumerate*}\n",
            "text/plain": [
              "[1] 100   4"
            ]
          },
          "metadata": {}
        },
        {
          "output_type": "display_data",
          "data": {
            "text/html": [
              "<style>\n",
              ".list-inline {list-style: none; margin:0; padding: 0}\n",
              ".list-inline>li {display: inline-block}\n",
              ".list-inline>li:not(:last-child)::after {content: \"\\00b7\"; padding: 0 .5ex}\n",
              "</style>\n",
              "<ol class=list-inline><li>70</li><li>77</li><li>84</li><li>91</li><li>98</li></ol>\n"
            ],
            "text/markdown": "1. 70\n2. 77\n3. 84\n4. 91\n5. 98\n\n\n",
            "text/latex": "\\begin{enumerate*}\n\\item 70\n\\item 77\n\\item 84\n\\item 91\n\\item 98\n\\end{enumerate*}\n",
            "text/plain": [
              "[1] 70 77 84 91 98"
            ]
          },
          "metadata": {}
        },
        {
          "output_type": "display_data",
          "data": {
            "text/html": [
              "<table class=\"dataframe\">\n",
              "<caption>A data.frame: 95 × 4</caption>\n",
              "<thead>\n",
              "\t<tr><th></th><th scope=col>Dia_semana</th><th scope=col>Temperatura</th><th scope=col>Llueve</th><th scope=col>Estacion</th></tr>\n",
              "\t<tr><th></th><th scope=col>&lt;chr&gt;</th><th scope=col>&lt;dbl&gt;</th><th scope=col>&lt;lgl&gt;</th><th scope=col>&lt;chr&gt;</th></tr>\n",
              "</thead>\n",
              "<tbody>\n",
              "\t<tr><th scope=row>1</th><td>L</td><td>28.047398</td><td>FALSE</td><td>E1</td></tr>\n",
              "\t<tr><th scope=row>2</th><td>M</td><td>40.600749</td><td>FALSE</td><td>E1</td></tr>\n",
              "\t<tr><th scope=row>3</th><td>W</td><td>34.177870</td><td>FALSE</td><td>E1</td></tr>\n",
              "\t<tr><th scope=row>4</th><td>J</td><td>37.614694</td><td>FALSE</td><td>E1</td></tr>\n",
              "\t<tr><th scope=row>5</th><td>V</td><td>28.147801</td><td>FALSE</td><td>E1</td></tr>\n",
              "\t<tr><th scope=row>6</th><td>S</td><td> 2.192955</td><td> TRUE</td><td>E1</td></tr>\n",
              "\t<tr><th scope=row>7</th><td>D</td><td>26.597622</td><td>FALSE</td><td>E1</td></tr>\n",
              "\t<tr><th scope=row>8</th><td>L</td><td> 8.242464</td><td> TRUE</td><td>E1</td></tr>\n",
              "\t<tr><th scope=row>9</th><td>M</td><td>23.973565</td><td>FALSE</td><td>E1</td></tr>\n",
              "\t<tr><th scope=row>10</th><td>W</td><td>15.222881</td><td> TRUE</td><td>E1</td></tr>\n",
              "\t<tr><th scope=row>11</th><td>J</td><td>15.057519</td><td> TRUE</td><td>E1</td></tr>\n",
              "\t<tr><th scope=row>12</th><td>V</td><td>13.378974</td><td> TRUE</td><td>E1</td></tr>\n",
              "\t<tr><th scope=row>13</th><td>S</td><td>34.996026</td><td>FALSE</td><td>E1</td></tr>\n",
              "\t<tr><th scope=row>14</th><td>D</td><td>25.744968</td><td>FALSE</td><td>E1</td></tr>\n",
              "\t<tr><th scope=row>15</th><td>L</td><td>31.089475</td><td>FALSE</td><td>E1</td></tr>\n",
              "\t<tr><th scope=row>16</th><td>M</td><td>16.558664</td><td> TRUE</td><td>E1</td></tr>\n",
              "\t<tr><th scope=row>17</th><td>W</td><td>15.943889</td><td> TRUE</td><td>E1</td></tr>\n",
              "\t<tr><th scope=row>18</th><td>J</td><td>30.148004</td><td>FALSE</td><td>E1</td></tr>\n",
              "\t<tr><th scope=row>19</th><td>V</td><td>14.272358</td><td> TRUE</td><td>E1</td></tr>\n",
              "\t<tr><th scope=row>20</th><td>S</td><td>14.796715</td><td> TRUE</td><td>E1</td></tr>\n",
              "\t<tr><th scope=row>21</th><td>D</td><td>26.151556</td><td>FALSE</td><td>E1</td></tr>\n",
              "\t<tr><th scope=row>22</th><td>L</td><td>25.297946</td><td>FALSE</td><td>E1</td></tr>\n",
              "\t<tr><th scope=row>23</th><td>M</td><td>17.973586</td><td> TRUE</td><td>E1</td></tr>\n",
              "\t<tr><th scope=row>24</th><td>W</td><td>27.352739</td><td>FALSE</td><td>E1</td></tr>\n",
              "\t<tr><th scope=row>25</th><td>J</td><td>41.177212</td><td>FALSE</td><td>E1</td></tr>\n",
              "\t<tr><th scope=row>26</th><td>V</td><td>14.252425</td><td> TRUE</td><td>E1</td></tr>\n",
              "\t<tr><th scope=row>27</th><td>S</td><td>14.802777</td><td> TRUE</td><td>E1</td></tr>\n",
              "\t<tr><th scope=row>28</th><td>D</td><td>13.785511</td><td> TRUE</td><td>E1</td></tr>\n",
              "\t<tr><th scope=row>29</th><td>L</td><td>17.876141</td><td> TRUE</td><td>E1</td></tr>\n",
              "\t<tr><th scope=row>30</th><td>M</td><td>29.711650</td><td>FALSE</td><td>E1</td></tr>\n",
              "\t<tr><th scope=row>⋮</th><td>⋮</td><td>⋮</td><td>⋮</td><td>⋮</td></tr>\n",
              "\t<tr><th scope=row>66</th><td>W</td><td>15.46852</td><td> TRUE</td><td>E2</td></tr>\n",
              "\t<tr><th scope=row>67</th><td>J</td><td>36.37935</td><td>FALSE</td><td>E3</td></tr>\n",
              "\t<tr><th scope=row>68</th><td>V</td><td>20.76817</td><td>FALSE</td><td>E3</td></tr>\n",
              "\t<tr><th scope=row>69</th><td>S</td><td>33.78108</td><td>FALSE</td><td>E3</td></tr>\n",
              "\t<tr><th scope=row>71</th><td>L</td><td>18.35416</td><td> TRUE</td><td>E3</td></tr>\n",
              "\t<tr><th scope=row>72</th><td>M</td><td>23.13451</td><td>FALSE</td><td>E3</td></tr>\n",
              "\t<tr><th scope=row>73</th><td>W</td><td>24.37597</td><td>FALSE</td><td>E3</td></tr>\n",
              "\t<tr><th scope=row>74</th><td>J</td><td>19.76740</td><td> TRUE</td><td>E3</td></tr>\n",
              "\t<tr><th scope=row>75</th><td>V</td><td>19.30853</td><td> TRUE</td><td>E3</td></tr>\n",
              "\t<tr><th scope=row>76</th><td>S</td><td>17.55994</td><td> TRUE</td><td>E3</td></tr>\n",
              "\t<tr><th scope=row>78</th><td>L</td><td>43.36627</td><td>FALSE</td><td>E3</td></tr>\n",
              "\t<tr><th scope=row>79</th><td>M</td><td>20.56055</td><td>FALSE</td><td>E3</td></tr>\n",
              "\t<tr><th scope=row>80</th><td>W</td><td>21.97568</td><td>FALSE</td><td>E3</td></tr>\n",
              "\t<tr><th scope=row>81</th><td>J</td><td>19.45900</td><td> TRUE</td><td>E3</td></tr>\n",
              "\t<tr><th scope=row>82</th><td>V</td><td>17.94905</td><td> TRUE</td><td>E3</td></tr>\n",
              "\t<tr><th scope=row>83</th><td>S</td><td>27.54367</td><td>FALSE</td><td>E3</td></tr>\n",
              "\t<tr><th scope=row>85</th><td>L</td><td>21.72611</td><td>FALSE</td><td>E3</td></tr>\n",
              "\t<tr><th scope=row>86</th><td>M</td><td>27.77114</td><td>FALSE</td><td>E3</td></tr>\n",
              "\t<tr><th scope=row>87</th><td>W</td><td>18.38030</td><td> TRUE</td><td>E3</td></tr>\n",
              "\t<tr><th scope=row>88</th><td>J</td><td>18.74635</td><td> TRUE</td><td>E3</td></tr>\n",
              "\t<tr><th scope=row>89</th><td>V</td><td>22.97470</td><td>FALSE</td><td>E3</td></tr>\n",
              "\t<tr><th scope=row>90</th><td>S</td><td>23.52818</td><td>FALSE</td><td>E3</td></tr>\n",
              "\t<tr><th scope=row>92</th><td>L</td><td>24.88548</td><td>FALSE</td><td>E3</td></tr>\n",
              "\t<tr><th scope=row>93</th><td>M</td><td>12.77895</td><td> TRUE</td><td>E3</td></tr>\n",
              "\t<tr><th scope=row>94</th><td>W</td><td>24.89013</td><td>FALSE</td><td>E3</td></tr>\n",
              "\t<tr><th scope=row>95</th><td>J</td><td>25.37488</td><td>FALSE</td><td>E3</td></tr>\n",
              "\t<tr><th scope=row>96</th><td>V</td><td>26.78591</td><td>FALSE</td><td>E3</td></tr>\n",
              "\t<tr><th scope=row>97</th><td>S</td><td>17.61203</td><td> TRUE</td><td>E3</td></tr>\n",
              "\t<tr><th scope=row>99</th><td>L</td><td>30.38006</td><td>FALSE</td><td>E3</td></tr>\n",
              "\t<tr><th scope=row>100</th><td>M</td><td>18.50266</td><td> TRUE</td><td>E3</td></tr>\n",
              "</tbody>\n",
              "</table>\n"
            ],
            "text/markdown": "\nA data.frame: 95 × 4\n\n| <!--/--> | Dia_semana &lt;chr&gt; | Temperatura &lt;dbl&gt; | Llueve &lt;lgl&gt; | Estacion &lt;chr&gt; |\n|---|---|---|---|---|\n| 1 | L | 28.047398 | FALSE | E1 |\n| 2 | M | 40.600749 | FALSE | E1 |\n| 3 | W | 34.177870 | FALSE | E1 |\n| 4 | J | 37.614694 | FALSE | E1 |\n| 5 | V | 28.147801 | FALSE | E1 |\n| 6 | S |  2.192955 |  TRUE | E1 |\n| 7 | D | 26.597622 | FALSE | E1 |\n| 8 | L |  8.242464 |  TRUE | E1 |\n| 9 | M | 23.973565 | FALSE | E1 |\n| 10 | W | 15.222881 |  TRUE | E1 |\n| 11 | J | 15.057519 |  TRUE | E1 |\n| 12 | V | 13.378974 |  TRUE | E1 |\n| 13 | S | 34.996026 | FALSE | E1 |\n| 14 | D | 25.744968 | FALSE | E1 |\n| 15 | L | 31.089475 | FALSE | E1 |\n| 16 | M | 16.558664 |  TRUE | E1 |\n| 17 | W | 15.943889 |  TRUE | E1 |\n| 18 | J | 30.148004 | FALSE | E1 |\n| 19 | V | 14.272358 |  TRUE | E1 |\n| 20 | S | 14.796715 |  TRUE | E1 |\n| 21 | D | 26.151556 | FALSE | E1 |\n| 22 | L | 25.297946 | FALSE | E1 |\n| 23 | M | 17.973586 |  TRUE | E1 |\n| 24 | W | 27.352739 | FALSE | E1 |\n| 25 | J | 41.177212 | FALSE | E1 |\n| 26 | V | 14.252425 |  TRUE | E1 |\n| 27 | S | 14.802777 |  TRUE | E1 |\n| 28 | D | 13.785511 |  TRUE | E1 |\n| 29 | L | 17.876141 |  TRUE | E1 |\n| 30 | M | 29.711650 | FALSE | E1 |\n| ⋮ | ⋮ | ⋮ | ⋮ | ⋮ |\n| 66 | W | 15.46852 |  TRUE | E2 |\n| 67 | J | 36.37935 | FALSE | E3 |\n| 68 | V | 20.76817 | FALSE | E3 |\n| 69 | S | 33.78108 | FALSE | E3 |\n| 71 | L | 18.35416 |  TRUE | E3 |\n| 72 | M | 23.13451 | FALSE | E3 |\n| 73 | W | 24.37597 | FALSE | E3 |\n| 74 | J | 19.76740 |  TRUE | E3 |\n| 75 | V | 19.30853 |  TRUE | E3 |\n| 76 | S | 17.55994 |  TRUE | E3 |\n| 78 | L | 43.36627 | FALSE | E3 |\n| 79 | M | 20.56055 | FALSE | E3 |\n| 80 | W | 21.97568 | FALSE | E3 |\n| 81 | J | 19.45900 |  TRUE | E3 |\n| 82 | V | 17.94905 |  TRUE | E3 |\n| 83 | S | 27.54367 | FALSE | E3 |\n| 85 | L | 21.72611 | FALSE | E3 |\n| 86 | M | 27.77114 | FALSE | E3 |\n| 87 | W | 18.38030 |  TRUE | E3 |\n| 88 | J | 18.74635 |  TRUE | E3 |\n| 89 | V | 22.97470 | FALSE | E3 |\n| 90 | S | 23.52818 | FALSE | E3 |\n| 92 | L | 24.88548 | FALSE | E3 |\n| 93 | M | 12.77895 |  TRUE | E3 |\n| 94 | W | 24.89013 | FALSE | E3 |\n| 95 | J | 25.37488 | FALSE | E3 |\n| 96 | V | 26.78591 | FALSE | E3 |\n| 97 | S | 17.61203 |  TRUE | E3 |\n| 99 | L | 30.38006 | FALSE | E3 |\n| 100 | M | 18.50266 |  TRUE | E3 |\n\n",
            "text/latex": "A data.frame: 95 × 4\n\\begin{tabular}{r|llll}\n  & Dia\\_semana & Temperatura & Llueve & Estacion\\\\\n  & <chr> & <dbl> & <lgl> & <chr>\\\\\n\\hline\n\t1 & L & 28.047398 & FALSE & E1\\\\\n\t2 & M & 40.600749 & FALSE & E1\\\\\n\t3 & W & 34.177870 & FALSE & E1\\\\\n\t4 & J & 37.614694 & FALSE & E1\\\\\n\t5 & V & 28.147801 & FALSE & E1\\\\\n\t6 & S &  2.192955 &  TRUE & E1\\\\\n\t7 & D & 26.597622 & FALSE & E1\\\\\n\t8 & L &  8.242464 &  TRUE & E1\\\\\n\t9 & M & 23.973565 & FALSE & E1\\\\\n\t10 & W & 15.222881 &  TRUE & E1\\\\\n\t11 & J & 15.057519 &  TRUE & E1\\\\\n\t12 & V & 13.378974 &  TRUE & E1\\\\\n\t13 & S & 34.996026 & FALSE & E1\\\\\n\t14 & D & 25.744968 & FALSE & E1\\\\\n\t15 & L & 31.089475 & FALSE & E1\\\\\n\t16 & M & 16.558664 &  TRUE & E1\\\\\n\t17 & W & 15.943889 &  TRUE & E1\\\\\n\t18 & J & 30.148004 & FALSE & E1\\\\\n\t19 & V & 14.272358 &  TRUE & E1\\\\\n\t20 & S & 14.796715 &  TRUE & E1\\\\\n\t21 & D & 26.151556 & FALSE & E1\\\\\n\t22 & L & 25.297946 & FALSE & E1\\\\\n\t23 & M & 17.973586 &  TRUE & E1\\\\\n\t24 & W & 27.352739 & FALSE & E1\\\\\n\t25 & J & 41.177212 & FALSE & E1\\\\\n\t26 & V & 14.252425 &  TRUE & E1\\\\\n\t27 & S & 14.802777 &  TRUE & E1\\\\\n\t28 & D & 13.785511 &  TRUE & E1\\\\\n\t29 & L & 17.876141 &  TRUE & E1\\\\\n\t30 & M & 29.711650 & FALSE & E1\\\\\n\t⋮ & ⋮ & ⋮ & ⋮ & ⋮\\\\\n\t66 & W & 15.46852 &  TRUE & E2\\\\\n\t67 & J & 36.37935 & FALSE & E3\\\\\n\t68 & V & 20.76817 & FALSE & E3\\\\\n\t69 & S & 33.78108 & FALSE & E3\\\\\n\t71 & L & 18.35416 &  TRUE & E3\\\\\n\t72 & M & 23.13451 & FALSE & E3\\\\\n\t73 & W & 24.37597 & FALSE & E3\\\\\n\t74 & J & 19.76740 &  TRUE & E3\\\\\n\t75 & V & 19.30853 &  TRUE & E3\\\\\n\t76 & S & 17.55994 &  TRUE & E3\\\\\n\t78 & L & 43.36627 & FALSE & E3\\\\\n\t79 & M & 20.56055 & FALSE & E3\\\\\n\t80 & W & 21.97568 & FALSE & E3\\\\\n\t81 & J & 19.45900 &  TRUE & E3\\\\\n\t82 & V & 17.94905 &  TRUE & E3\\\\\n\t83 & S & 27.54367 & FALSE & E3\\\\\n\t85 & L & 21.72611 & FALSE & E3\\\\\n\t86 & M & 27.77114 & FALSE & E3\\\\\n\t87 & W & 18.38030 &  TRUE & E3\\\\\n\t88 & J & 18.74635 &  TRUE & E3\\\\\n\t89 & V & 22.97470 & FALSE & E3\\\\\n\t90 & S & 23.52818 & FALSE & E3\\\\\n\t92 & L & 24.88548 & FALSE & E3\\\\\n\t93 & M & 12.77895 &  TRUE & E3\\\\\n\t94 & W & 24.89013 & FALSE & E3\\\\\n\t95 & J & 25.37488 & FALSE & E3\\\\\n\t96 & V & 26.78591 & FALSE & E3\\\\\n\t97 & S & 17.61203 &  TRUE & E3\\\\\n\t99 & L & 30.38006 & FALSE & E3\\\\\n\t100 & M & 18.50266 &  TRUE & E3\\\\\n\\end{tabular}\n",
            "text/plain": [
              "    Dia_semana Temperatura Llueve Estacion\n",
              "1   L          28.047398   FALSE  E1      \n",
              "2   M          40.600749   FALSE  E1      \n",
              "3   W          34.177870   FALSE  E1      \n",
              "4   J          37.614694   FALSE  E1      \n",
              "5   V          28.147801   FALSE  E1      \n",
              "6   S           2.192955    TRUE  E1      \n",
              "7   D          26.597622   FALSE  E1      \n",
              "8   L           8.242464    TRUE  E1      \n",
              "9   M          23.973565   FALSE  E1      \n",
              "10  W          15.222881    TRUE  E1      \n",
              "11  J          15.057519    TRUE  E1      \n",
              "12  V          13.378974    TRUE  E1      \n",
              "13  S          34.996026   FALSE  E1      \n",
              "14  D          25.744968   FALSE  E1      \n",
              "15  L          31.089475   FALSE  E1      \n",
              "16  M          16.558664    TRUE  E1      \n",
              "17  W          15.943889    TRUE  E1      \n",
              "18  J          30.148004   FALSE  E1      \n",
              "19  V          14.272358    TRUE  E1      \n",
              "20  S          14.796715    TRUE  E1      \n",
              "21  D          26.151556   FALSE  E1      \n",
              "22  L          25.297946   FALSE  E1      \n",
              "23  M          17.973586    TRUE  E1      \n",
              "24  W          27.352739   FALSE  E1      \n",
              "25  J          41.177212   FALSE  E1      \n",
              "26  V          14.252425    TRUE  E1      \n",
              "27  S          14.802777    TRUE  E1      \n",
              "28  D          13.785511    TRUE  E1      \n",
              "29  L          17.876141    TRUE  E1      \n",
              "30  M          29.711650   FALSE  E1      \n",
              "⋮   ⋮          ⋮           ⋮      ⋮       \n",
              "66  W          15.46852     TRUE  E2      \n",
              "67  J          36.37935    FALSE  E3      \n",
              "68  V          20.76817    FALSE  E3      \n",
              "69  S          33.78108    FALSE  E3      \n",
              "71  L          18.35416     TRUE  E3      \n",
              "72  M          23.13451    FALSE  E3      \n",
              "73  W          24.37597    FALSE  E3      \n",
              "74  J          19.76740     TRUE  E3      \n",
              "75  V          19.30853     TRUE  E3      \n",
              "76  S          17.55994     TRUE  E3      \n",
              "78  L          43.36627    FALSE  E3      \n",
              "79  M          20.56055    FALSE  E3      \n",
              "80  W          21.97568    FALSE  E3      \n",
              "81  J          19.45900     TRUE  E3      \n",
              "82  V          17.94905     TRUE  E3      \n",
              "83  S          27.54367    FALSE  E3      \n",
              "85  L          21.72611    FALSE  E3      \n",
              "86  M          27.77114    FALSE  E3      \n",
              "87  W          18.38030     TRUE  E3      \n",
              "88  J          18.74635     TRUE  E3      \n",
              "89  V          22.97470    FALSE  E3      \n",
              "90  S          23.52818    FALSE  E3      \n",
              "92  L          24.88548    FALSE  E3      \n",
              "93  M          12.77895     TRUE  E3      \n",
              "94  W          24.89013    FALSE  E3      \n",
              "95  J          25.37488    FALSE  E3      \n",
              "96  V          26.78591    FALSE  E3      \n",
              "97  S          17.61203     TRUE  E3      \n",
              "99  L          30.38006    FALSE  E3      \n",
              "100 M          18.50266     TRUE  E3      "
            ]
          },
          "metadata": {}
        }
      ]
    },
    {
      "cell_type": "code",
      "metadata": {
        "trusted": true,
        "id": "nuW7ux65m5aL"
      },
      "source": [
        "dim(precipitaciones)"
      ],
      "execution_count": null,
      "outputs": []
    },
    {
      "cell_type": "code",
      "source": [
        "precipitaciones[(precipitaciones$Estacion != \"E3\") | (precipitaciones$Dia_Semana != \"D\"),] # Pendiente"
      ],
      "metadata": {
        "id": "cxJM04pcUpKc"
      },
      "execution_count": null,
      "outputs": []
    },
    {
      "cell_type": "markdown",
      "metadata": {
        "id": "5fmGF0Qam5aN"
      },
      "source": [
        "## 5.4 Cómo guardar ambiente de trabajo o variables definidas en el\n",
        "\n",
        "### Directorio de trabajo\n",
        "\n",
        "El directorio de trabajo corresponde a la ubicación en el sistema de archivos, desde donde la sesión de R podrá acceder directamente para guardar o cargar datos.\n"
      ]
    },
    {
      "cell_type": "code",
      "metadata": {
        "trusted": true,
        "id": "OfyO5MKOm5aO",
        "outputId": "afcf3582-7110-4e81-c080-5c0ef52880fc",
        "colab": {
          "base_uri": "https://localhost:8080/",
          "height": 34
        }
      },
      "source": [
        "# para saber en qué directorio se está trabajando\n",
        "getwd()"
      ],
      "execution_count": null,
      "outputs": [
        {
          "output_type": "display_data",
          "data": {
            "text/html": [
              "'/content/sample_data'"
            ],
            "text/markdown": "'/content/sample_data'",
            "text/latex": "'/content/sample\\_data'",
            "text/plain": [
              "[1] \"/content/sample_data\""
            ]
          },
          "metadata": {}
        }
      ]
    },
    {
      "cell_type": "code",
      "metadata": {
        "trusted": true,
        "id": "fHZIjYhRm5aQ",
        "outputId": "d89d8162-83d7-4029-cd55-deb67921aee4",
        "colab": {
          "base_uri": "https://localhost:8080/",
          "height": 234
        }
      },
      "source": [
        "# para cambiar el directorio de trabajo\n",
        "\n",
        "setwd(\"./sample_data\")\n"
      ],
      "execution_count": null,
      "outputs": [
        {
          "output_type": "error",
          "ename": "ERROR",
          "evalue": "Error in setwd(\"./sample_data\"): cannot change working directory\n",
          "traceback": [
            "Error in setwd(\"./sample_data\"): cannot change working directory\nTraceback:\n",
            "1. .handleSimpleError(function (cnd) \n . {\n .     watcher$capture_plot_and_output()\n .     cnd <- sanitize_call(cnd)\n .     watcher$push(cnd)\n .     switch(on_error, continue = invokeRestart(\"eval_continue\"), \n .         stop = invokeRestart(\"eval_stop\"), error = NULL)\n . }, \"cannot change working directory\", base::quote(setwd(\"./sample_data\")))"
          ]
        }
      ]
    },
    {
      "cell_type": "code",
      "source": [
        "list.dirs()"
      ],
      "metadata": {
        "id": "SSXDiQl1gStZ",
        "outputId": "00d4e095-911c-4a1f-bf05-0722673383f1",
        "colab": {
          "base_uri": "https://localhost:8080/",
          "height": 34
        }
      },
      "execution_count": null,
      "outputs": [
        {
          "output_type": "display_data",
          "data": {
            "text/html": [
              "'.'"
            ],
            "text/markdown": "'.'",
            "text/latex": "'.'",
            "text/plain": [
              "[1] \".\""
            ]
          },
          "metadata": {}
        }
      ]
    },
    {
      "cell_type": "markdown",
      "metadata": {
        "id": "_M-D6sgRm5aU"
      },
      "source": [
        "### Formato rds\n",
        "\n",
        "Una manera de guardar variables creadas en el ambiente de la sessión de R, es mediante la utilización del formato *.rds. Este formato permite guardar los objetos declarados y leerlos rápidamente en cualquier otra sesión que se inicie posteriormente. Es últil por ejemplo para guardar en disco modelos entrenados para ser utilizados para predicciones futuras.\n"
      ]
    },
    {
      "cell_type": "code",
      "metadata": {
        "trusted": true,
        "id": "11jJ5B50m5aV"
      },
      "source": [
        "# Función saveRDS() # Guardar\n",
        "\n",
        "# guarde en el directorio actual el dataframe _precipitaciones_\n",
        "saveRDS(precipitaciones,\"prep_data.rds\")"
      ],
      "execution_count": null,
      "outputs": []
    },
    {
      "cell_type": "code",
      "source": [
        "saveRDS(temp,\"../prep_data2.rds\")"
      ],
      "metadata": {
        "id": "bmMTdfM0odiH"
      },
      "execution_count": null,
      "outputs": []
    },
    {
      "cell_type": "code",
      "source": [
        "temp"
      ],
      "metadata": {
        "id": "eOwyyF8IpJKy",
        "outputId": "23a96f4b-6732-4823-f1a8-fe731be5a358",
        "colab": {
          "base_uri": "https://localhost:8080/",
          "height": 260
        }
      },
      "execution_count": null,
      "outputs": [
        {
          "output_type": "display_data",
          "data": {
            "text/html": [
              "<style>\n",
              ".list-inline {list-style: none; margin:0; padding: 0}\n",
              ".list-inline>li {display: inline-block}\n",
              ".list-inline>li:not(:last-child)::after {content: \"\\00b7\"; padding: 0 .5ex}\n",
              "</style>\n",
              "<ol class=list-inline><li>28.0473979219447</li><li>40.6007489080847</li><li>34.1778698303744</li><li>37.6146941336422</li><li>28.1478006695561</li><li>2.19295450095988</li><li>26.5976221879169</li><li>8.24246445789232</li><li>23.9735648141108</li><li>15.2228810636275</li><li>15.0575190836405</li><li>13.3789737926433</li><li>34.9960263640921</li><li>25.7449677747921</li><li>31.0894745507877</li><li>16.5586641897343</li><li>15.943889243799</li><li>30.1480043202742</li><li>14.2723582907272</li><li>14.7967149388319</li><li>26.1515557790492</li><li>25.2979464478332</li><li>17.9735861468346</li><li>27.3527389057397</li><li>41.1772122110576</li><li>14.252425261178</li><li>14.8027766119877</li><li>13.7855108814617</li><li>17.876140620232</li><li>29.7116497968083</li><li>24.556526963252</li><li>15.9650608645998</li><li>20.5780915449121</li><li>27.742047459394</li><li>16.8914771707423</li><li>19.3099012679735</li><li>27.2428788354161</li><li>28.2849925587212</li><li>37.6079397838501</li><li>14.3585214064946</li><li>11.6465147000481</li><li>27.4363249635653</li><li>13.6465891678667</li><li>14.5485648777624</li><li>11.4347815919524</li><li>15.6972502429871</li><li>26.2071511894617</li><li>21.3313621575981</li><li>8.56145859910327</li><li>25.1764215873971</li><li>14.2573102071502</li><li>20.238034259499</li><li>21.6026397792339</li><li>17.5745339768552</li><li>24.549434438867</li><li>13.9667616510175</li><li>21.657668276317</li><li>33.1893890181651</li><li>14.2308761763363</li><li>14.6386039713871</li><li>21.5165800886131</li><li>17.8327751908711</li><li>30.5057002128044</li><li>26.8261138978349</li><li>15.7180639270166</li><li>15.4685223215065</li><li>36.3793486839586</li><li>20.7681698664106</li><li>33.7810751929382</li><li>19.052157475811</li><li>18.3541587534909</li><li>23.1345088427262</li><li>24.3759694397231</li><li>19.767400196691</li><li>19.3085259438372</li><li>17.5599377234267</li><li>21.3131925089111</li><li>43.3662708993683</li><li>20.5605549660926</li><li>21.975678211684</li><li>19.4590004611896</li><li>17.9490463082087</li><li>27.5436689136507</li><li>10.9672623305815</li><li>21.7261128537755</li><li>27.7711435333199</li><li>18.3802957552293</li><li>18.7463467128986</li><li>22.9746989795573</li><li>23.5281754555667</li><li>-1.23076636814169</li><li>24.8854793421856</li><li>12.7789529176297</li><li>24.8901284763733</li><li>25.3748849180814</li><li>26.7859132907422</li><li>17.6120310412927</li><li>25.7508945927671</li><li>30.380064199775</li><li>18.5026554105248</li></ol>\n"
            ],
            "text/markdown": "1. 28.0473979219447\n2. 40.6007489080847\n3. 34.1778698303744\n4. 37.6146941336422\n5. 28.1478006695561\n6. 2.19295450095988\n7. 26.5976221879169\n8. 8.24246445789232\n9. 23.9735648141108\n10. 15.2228810636275\n11. 15.0575190836405\n12. 13.3789737926433\n13. 34.9960263640921\n14. 25.7449677747921\n15. 31.0894745507877\n16. 16.5586641897343\n17. 15.943889243799\n18. 30.1480043202742\n19. 14.2723582907272\n20. 14.7967149388319\n21. 26.1515557790492\n22. 25.2979464478332\n23. 17.9735861468346\n24. 27.3527389057397\n25. 41.1772122110576\n26. 14.252425261178\n27. 14.8027766119877\n28. 13.7855108814617\n29. 17.876140620232\n30. 29.7116497968083\n31. 24.556526963252\n32. 15.9650608645998\n33. 20.5780915449121\n34. 27.742047459394\n35. 16.8914771707423\n36. 19.3099012679735\n37. 27.2428788354161\n38. 28.2849925587212\n39. 37.6079397838501\n40. 14.3585214064946\n41. 11.6465147000481\n42. 27.4363249635653\n43. 13.6465891678667\n44. 14.5485648777624\n45. 11.4347815919524\n46. 15.6972502429871\n47. 26.2071511894617\n48. 21.3313621575981\n49. 8.56145859910327\n50. 25.1764215873971\n51. 14.2573102071502\n52. 20.238034259499\n53. 21.6026397792339\n54. 17.5745339768552\n55. 24.549434438867\n56. 13.9667616510175\n57. 21.657668276317\n58. 33.1893890181651\n59. 14.2308761763363\n60. 14.6386039713871\n61. 21.5165800886131\n62. 17.8327751908711\n63. 30.5057002128044\n64. 26.8261138978349\n65. 15.7180639270166\n66. 15.4685223215065\n67. 36.3793486839586\n68. 20.7681698664106\n69. 33.7810751929382\n70. 19.052157475811\n71. 18.3541587534909\n72. 23.1345088427262\n73. 24.3759694397231\n74. 19.767400196691\n75. 19.3085259438372\n76. 17.5599377234267\n77. 21.3131925089111\n78. 43.3662708993683\n79. 20.5605549660926\n80. 21.975678211684\n81. 19.4590004611896\n82. 17.9490463082087\n83. 27.5436689136507\n84. 10.9672623305815\n85. 21.7261128537755\n86. 27.7711435333199\n87. 18.3802957552293\n88. 18.7463467128986\n89. 22.9746989795573\n90. 23.5281754555667\n91. -1.23076636814169\n92. 24.8854793421856\n93. 12.7789529176297\n94. 24.8901284763733\n95. 25.3748849180814\n96. 26.7859132907422\n97. 17.6120310412927\n98. 25.7508945927671\n99. 30.380064199775\n100. 18.5026554105248\n\n\n",
            "text/latex": "\\begin{enumerate*}\n\\item 28.0473979219447\n\\item 40.6007489080847\n\\item 34.1778698303744\n\\item 37.6146941336422\n\\item 28.1478006695561\n\\item 2.19295450095988\n\\item 26.5976221879169\n\\item 8.24246445789232\n\\item 23.9735648141108\n\\item 15.2228810636275\n\\item 15.0575190836405\n\\item 13.3789737926433\n\\item 34.9960263640921\n\\item 25.7449677747921\n\\item 31.0894745507877\n\\item 16.5586641897343\n\\item 15.943889243799\n\\item 30.1480043202742\n\\item 14.2723582907272\n\\item 14.7967149388319\n\\item 26.1515557790492\n\\item 25.2979464478332\n\\item 17.9735861468346\n\\item 27.3527389057397\n\\item 41.1772122110576\n\\item 14.252425261178\n\\item 14.8027766119877\n\\item 13.7855108814617\n\\item 17.876140620232\n\\item 29.7116497968083\n\\item 24.556526963252\n\\item 15.9650608645998\n\\item 20.5780915449121\n\\item 27.742047459394\n\\item 16.8914771707423\n\\item 19.3099012679735\n\\item 27.2428788354161\n\\item 28.2849925587212\n\\item 37.6079397838501\n\\item 14.3585214064946\n\\item 11.6465147000481\n\\item 27.4363249635653\n\\item 13.6465891678667\n\\item 14.5485648777624\n\\item 11.4347815919524\n\\item 15.6972502429871\n\\item 26.2071511894617\n\\item 21.3313621575981\n\\item 8.56145859910327\n\\item 25.1764215873971\n\\item 14.2573102071502\n\\item 20.238034259499\n\\item 21.6026397792339\n\\item 17.5745339768552\n\\item 24.549434438867\n\\item 13.9667616510175\n\\item 21.657668276317\n\\item 33.1893890181651\n\\item 14.2308761763363\n\\item 14.6386039713871\n\\item 21.5165800886131\n\\item 17.8327751908711\n\\item 30.5057002128044\n\\item 26.8261138978349\n\\item 15.7180639270166\n\\item 15.4685223215065\n\\item 36.3793486839586\n\\item 20.7681698664106\n\\item 33.7810751929382\n\\item 19.052157475811\n\\item 18.3541587534909\n\\item 23.1345088427262\n\\item 24.3759694397231\n\\item 19.767400196691\n\\item 19.3085259438372\n\\item 17.5599377234267\n\\item 21.3131925089111\n\\item 43.3662708993683\n\\item 20.5605549660926\n\\item 21.975678211684\n\\item 19.4590004611896\n\\item 17.9490463082087\n\\item 27.5436689136507\n\\item 10.9672623305815\n\\item 21.7261128537755\n\\item 27.7711435333199\n\\item 18.3802957552293\n\\item 18.7463467128986\n\\item 22.9746989795573\n\\item 23.5281754555667\n\\item -1.23076636814169\n\\item 24.8854793421856\n\\item 12.7789529176297\n\\item 24.8901284763733\n\\item 25.3748849180814\n\\item 26.7859132907422\n\\item 17.6120310412927\n\\item 25.7508945927671\n\\item 30.380064199775\n\\item 18.5026554105248\n\\end{enumerate*}\n",
            "text/plain": [
              "  [1] 28.047398 40.600749 34.177870 37.614694 28.147801  2.192955 26.597622\n",
              "  [8]  8.242464 23.973565 15.222881 15.057519 13.378974 34.996026 25.744968\n",
              " [15] 31.089475 16.558664 15.943889 30.148004 14.272358 14.796715 26.151556\n",
              " [22] 25.297946 17.973586 27.352739 41.177212 14.252425 14.802777 13.785511\n",
              " [29] 17.876141 29.711650 24.556527 15.965061 20.578092 27.742047 16.891477\n",
              " [36] 19.309901 27.242879 28.284993 37.607940 14.358521 11.646515 27.436325\n",
              " [43] 13.646589 14.548565 11.434782 15.697250 26.207151 21.331362  8.561459\n",
              " [50] 25.176422 14.257310 20.238034 21.602640 17.574534 24.549434 13.966762\n",
              " [57] 21.657668 33.189389 14.230876 14.638604 21.516580 17.832775 30.505700\n",
              " [64] 26.826114 15.718064 15.468522 36.379349 20.768170 33.781075 19.052157\n",
              " [71] 18.354159 23.134509 24.375969 19.767400 19.308526 17.559938 21.313193\n",
              " [78] 43.366271 20.560555 21.975678 19.459000 17.949046 27.543669 10.967262\n",
              " [85] 21.726113 27.771144 18.380296 18.746347 22.974699 23.528175 -1.230766\n",
              " [92] 24.885479 12.778953 24.890128 25.374885 26.785913 17.612031 25.750895\n",
              " [99] 30.380064 18.502655"
            ]
          },
          "metadata": {}
        }
      ]
    },
    {
      "cell_type": "code",
      "source": [
        "pre_data <- saveRDS(temp,\"../prep_data2.rds\")\n",
        "head(pre_data)"
      ],
      "metadata": {
        "id": "r28OWzeYofYf",
        "outputId": "0b03f2da-e7f1-42f9-b765-af873b929793",
        "colab": {
          "base_uri": "https://localhost:8080/",
          "height": 35
        }
      },
      "execution_count": null,
      "outputs": [
        {
          "output_type": "display_data",
          "data": {
            "text/plain": [
              "NULL"
            ]
          },
          "metadata": {}
        }
      ]
    },
    {
      "cell_type": "code",
      "metadata": {
        "trusted": true,
        "id": "DixES_Kjm5ah",
        "outputId": "be5141d2-6889-47ca-b3da-fa094725a5e2",
        "colab": {
          "base_uri": "https://localhost:8080/",
          "height": 1000
        }
      },
      "source": [
        "# readRDS()  Leer, pero ojo que es necesario asignar  a una variable\n",
        "write.csv(precipitaciones,\"prep_data.csv\")\n",
        "precipitaciones"
      ],
      "execution_count": null,
      "outputs": [
        {
          "output_type": "display_data",
          "data": {
            "text/html": [
              "<table class=\"dataframe\">\n",
              "<caption>A data.frame: 100 × 4</caption>\n",
              "<thead>\n",
              "\t<tr><th scope=col>Dia_semana</th><th scope=col>Temperatura</th><th scope=col>Llueve</th><th scope=col>Estacion</th></tr>\n",
              "\t<tr><th scope=col>&lt;chr&gt;</th><th scope=col>&lt;dbl&gt;</th><th scope=col>&lt;lgl&gt;</th><th scope=col>&lt;chr&gt;</th></tr>\n",
              "</thead>\n",
              "<tbody>\n",
              "\t<tr><td>L</td><td>28.047398</td><td>FALSE</td><td>E1</td></tr>\n",
              "\t<tr><td>M</td><td>40.600749</td><td>FALSE</td><td>E1</td></tr>\n",
              "\t<tr><td>W</td><td>34.177870</td><td>FALSE</td><td>E1</td></tr>\n",
              "\t<tr><td>J</td><td>37.614694</td><td>FALSE</td><td>E1</td></tr>\n",
              "\t<tr><td>V</td><td>28.147801</td><td>FALSE</td><td>E1</td></tr>\n",
              "\t<tr><td>S</td><td> 2.192955</td><td> TRUE</td><td>E1</td></tr>\n",
              "\t<tr><td>D</td><td>26.597622</td><td>FALSE</td><td>E1</td></tr>\n",
              "\t<tr><td>L</td><td> 8.242464</td><td> TRUE</td><td>E1</td></tr>\n",
              "\t<tr><td>M</td><td>23.973565</td><td>FALSE</td><td>E1</td></tr>\n",
              "\t<tr><td>W</td><td>15.222881</td><td> TRUE</td><td>E1</td></tr>\n",
              "\t<tr><td>J</td><td>15.057519</td><td> TRUE</td><td>E1</td></tr>\n",
              "\t<tr><td>V</td><td>13.378974</td><td> TRUE</td><td>E1</td></tr>\n",
              "\t<tr><td>S</td><td>34.996026</td><td>FALSE</td><td>E1</td></tr>\n",
              "\t<tr><td>D</td><td>25.744968</td><td>FALSE</td><td>E1</td></tr>\n",
              "\t<tr><td>L</td><td>31.089475</td><td>FALSE</td><td>E1</td></tr>\n",
              "\t<tr><td>M</td><td>16.558664</td><td> TRUE</td><td>E1</td></tr>\n",
              "\t<tr><td>W</td><td>15.943889</td><td> TRUE</td><td>E1</td></tr>\n",
              "\t<tr><td>J</td><td>30.148004</td><td>FALSE</td><td>E1</td></tr>\n",
              "\t<tr><td>V</td><td>14.272358</td><td> TRUE</td><td>E1</td></tr>\n",
              "\t<tr><td>S</td><td>14.796715</td><td> TRUE</td><td>E1</td></tr>\n",
              "\t<tr><td>D</td><td>26.151556</td><td>FALSE</td><td>E1</td></tr>\n",
              "\t<tr><td>L</td><td>25.297946</td><td>FALSE</td><td>E1</td></tr>\n",
              "\t<tr><td>M</td><td>17.973586</td><td> TRUE</td><td>E1</td></tr>\n",
              "\t<tr><td>W</td><td>27.352739</td><td>FALSE</td><td>E1</td></tr>\n",
              "\t<tr><td>J</td><td>41.177212</td><td>FALSE</td><td>E1</td></tr>\n",
              "\t<tr><td>V</td><td>14.252425</td><td> TRUE</td><td>E1</td></tr>\n",
              "\t<tr><td>S</td><td>14.802777</td><td> TRUE</td><td>E1</td></tr>\n",
              "\t<tr><td>D</td><td>13.785511</td><td> TRUE</td><td>E1</td></tr>\n",
              "\t<tr><td>L</td><td>17.876141</td><td> TRUE</td><td>E1</td></tr>\n",
              "\t<tr><td>M</td><td>29.711650</td><td>FALSE</td><td>E1</td></tr>\n",
              "\t<tr><td>⋮</td><td>⋮</td><td>⋮</td><td>⋮</td></tr>\n",
              "\t<tr><td>L</td><td>18.354159</td><td> TRUE</td><td>E3</td></tr>\n",
              "\t<tr><td>M</td><td>23.134509</td><td>FALSE</td><td>E3</td></tr>\n",
              "\t<tr><td>W</td><td>24.375969</td><td>FALSE</td><td>E3</td></tr>\n",
              "\t<tr><td>J</td><td>19.767400</td><td> TRUE</td><td>E3</td></tr>\n",
              "\t<tr><td>V</td><td>19.308526</td><td> TRUE</td><td>E3</td></tr>\n",
              "\t<tr><td>S</td><td>17.559938</td><td> TRUE</td><td>E3</td></tr>\n",
              "\t<tr><td>D</td><td>21.313193</td><td>FALSE</td><td>E3</td></tr>\n",
              "\t<tr><td>L</td><td>43.366271</td><td>FALSE</td><td>E3</td></tr>\n",
              "\t<tr><td>M</td><td>20.560555</td><td>FALSE</td><td>E3</td></tr>\n",
              "\t<tr><td>W</td><td>21.975678</td><td>FALSE</td><td>E3</td></tr>\n",
              "\t<tr><td>J</td><td>19.459000</td><td> TRUE</td><td>E3</td></tr>\n",
              "\t<tr><td>V</td><td>17.949046</td><td> TRUE</td><td>E3</td></tr>\n",
              "\t<tr><td>S</td><td>27.543669</td><td>FALSE</td><td>E3</td></tr>\n",
              "\t<tr><td>D</td><td>10.967262</td><td> TRUE</td><td>E3</td></tr>\n",
              "\t<tr><td>L</td><td>21.726113</td><td>FALSE</td><td>E3</td></tr>\n",
              "\t<tr><td>M</td><td>27.771144</td><td>FALSE</td><td>E3</td></tr>\n",
              "\t<tr><td>W</td><td>18.380296</td><td> TRUE</td><td>E3</td></tr>\n",
              "\t<tr><td>J</td><td>18.746347</td><td> TRUE</td><td>E3</td></tr>\n",
              "\t<tr><td>V</td><td>22.974699</td><td>FALSE</td><td>E3</td></tr>\n",
              "\t<tr><td>S</td><td>23.528175</td><td>FALSE</td><td>E3</td></tr>\n",
              "\t<tr><td>D</td><td>-1.230766</td><td> TRUE</td><td>E3</td></tr>\n",
              "\t<tr><td>L</td><td>24.885479</td><td>FALSE</td><td>E3</td></tr>\n",
              "\t<tr><td>M</td><td>12.778953</td><td> TRUE</td><td>E3</td></tr>\n",
              "\t<tr><td>W</td><td>24.890128</td><td>FALSE</td><td>E3</td></tr>\n",
              "\t<tr><td>J</td><td>25.374885</td><td>FALSE</td><td>E3</td></tr>\n",
              "\t<tr><td>V</td><td>26.785913</td><td>FALSE</td><td>E3</td></tr>\n",
              "\t<tr><td>S</td><td>17.612031</td><td> TRUE</td><td>E3</td></tr>\n",
              "\t<tr><td>D</td><td>25.750895</td><td>FALSE</td><td>E3</td></tr>\n",
              "\t<tr><td>L</td><td>30.380064</td><td>FALSE</td><td>E3</td></tr>\n",
              "\t<tr><td>M</td><td>18.502655</td><td> TRUE</td><td>E3</td></tr>\n",
              "</tbody>\n",
              "</table>\n"
            ],
            "text/markdown": "\nA data.frame: 100 × 4\n\n| Dia_semana &lt;chr&gt; | Temperatura &lt;dbl&gt; | Llueve &lt;lgl&gt; | Estacion &lt;chr&gt; |\n|---|---|---|---|\n| L | 28.047398 | FALSE | E1 |\n| M | 40.600749 | FALSE | E1 |\n| W | 34.177870 | FALSE | E1 |\n| J | 37.614694 | FALSE | E1 |\n| V | 28.147801 | FALSE | E1 |\n| S |  2.192955 |  TRUE | E1 |\n| D | 26.597622 | FALSE | E1 |\n| L |  8.242464 |  TRUE | E1 |\n| M | 23.973565 | FALSE | E1 |\n| W | 15.222881 |  TRUE | E1 |\n| J | 15.057519 |  TRUE | E1 |\n| V | 13.378974 |  TRUE | E1 |\n| S | 34.996026 | FALSE | E1 |\n| D | 25.744968 | FALSE | E1 |\n| L | 31.089475 | FALSE | E1 |\n| M | 16.558664 |  TRUE | E1 |\n| W | 15.943889 |  TRUE | E1 |\n| J | 30.148004 | FALSE | E1 |\n| V | 14.272358 |  TRUE | E1 |\n| S | 14.796715 |  TRUE | E1 |\n| D | 26.151556 | FALSE | E1 |\n| L | 25.297946 | FALSE | E1 |\n| M | 17.973586 |  TRUE | E1 |\n| W | 27.352739 | FALSE | E1 |\n| J | 41.177212 | FALSE | E1 |\n| V | 14.252425 |  TRUE | E1 |\n| S | 14.802777 |  TRUE | E1 |\n| D | 13.785511 |  TRUE | E1 |\n| L | 17.876141 |  TRUE | E1 |\n| M | 29.711650 | FALSE | E1 |\n| ⋮ | ⋮ | ⋮ | ⋮ |\n| L | 18.354159 |  TRUE | E3 |\n| M | 23.134509 | FALSE | E3 |\n| W | 24.375969 | FALSE | E3 |\n| J | 19.767400 |  TRUE | E3 |\n| V | 19.308526 |  TRUE | E3 |\n| S | 17.559938 |  TRUE | E3 |\n| D | 21.313193 | FALSE | E3 |\n| L | 43.366271 | FALSE | E3 |\n| M | 20.560555 | FALSE | E3 |\n| W | 21.975678 | FALSE | E3 |\n| J | 19.459000 |  TRUE | E3 |\n| V | 17.949046 |  TRUE | E3 |\n| S | 27.543669 | FALSE | E3 |\n| D | 10.967262 |  TRUE | E3 |\n| L | 21.726113 | FALSE | E3 |\n| M | 27.771144 | FALSE | E3 |\n| W | 18.380296 |  TRUE | E3 |\n| J | 18.746347 |  TRUE | E3 |\n| V | 22.974699 | FALSE | E3 |\n| S | 23.528175 | FALSE | E3 |\n| D | -1.230766 |  TRUE | E3 |\n| L | 24.885479 | FALSE | E3 |\n| M | 12.778953 |  TRUE | E3 |\n| W | 24.890128 | FALSE | E3 |\n| J | 25.374885 | FALSE | E3 |\n| V | 26.785913 | FALSE | E3 |\n| S | 17.612031 |  TRUE | E3 |\n| D | 25.750895 | FALSE | E3 |\n| L | 30.380064 | FALSE | E3 |\n| M | 18.502655 |  TRUE | E3 |\n\n",
            "text/latex": "A data.frame: 100 × 4\n\\begin{tabular}{llll}\n Dia\\_semana & Temperatura & Llueve & Estacion\\\\\n <chr> & <dbl> & <lgl> & <chr>\\\\\n\\hline\n\t L & 28.047398 & FALSE & E1\\\\\n\t M & 40.600749 & FALSE & E1\\\\\n\t W & 34.177870 & FALSE & E1\\\\\n\t J & 37.614694 & FALSE & E1\\\\\n\t V & 28.147801 & FALSE & E1\\\\\n\t S &  2.192955 &  TRUE & E1\\\\\n\t D & 26.597622 & FALSE & E1\\\\\n\t L &  8.242464 &  TRUE & E1\\\\\n\t M & 23.973565 & FALSE & E1\\\\\n\t W & 15.222881 &  TRUE & E1\\\\\n\t J & 15.057519 &  TRUE & E1\\\\\n\t V & 13.378974 &  TRUE & E1\\\\\n\t S & 34.996026 & FALSE & E1\\\\\n\t D & 25.744968 & FALSE & E1\\\\\n\t L & 31.089475 & FALSE & E1\\\\\n\t M & 16.558664 &  TRUE & E1\\\\\n\t W & 15.943889 &  TRUE & E1\\\\\n\t J & 30.148004 & FALSE & E1\\\\\n\t V & 14.272358 &  TRUE & E1\\\\\n\t S & 14.796715 &  TRUE & E1\\\\\n\t D & 26.151556 & FALSE & E1\\\\\n\t L & 25.297946 & FALSE & E1\\\\\n\t M & 17.973586 &  TRUE & E1\\\\\n\t W & 27.352739 & FALSE & E1\\\\\n\t J & 41.177212 & FALSE & E1\\\\\n\t V & 14.252425 &  TRUE & E1\\\\\n\t S & 14.802777 &  TRUE & E1\\\\\n\t D & 13.785511 &  TRUE & E1\\\\\n\t L & 17.876141 &  TRUE & E1\\\\\n\t M & 29.711650 & FALSE & E1\\\\\n\t ⋮ & ⋮ & ⋮ & ⋮\\\\\n\t L & 18.354159 &  TRUE & E3\\\\\n\t M & 23.134509 & FALSE & E3\\\\\n\t W & 24.375969 & FALSE & E3\\\\\n\t J & 19.767400 &  TRUE & E3\\\\\n\t V & 19.308526 &  TRUE & E3\\\\\n\t S & 17.559938 &  TRUE & E3\\\\\n\t D & 21.313193 & FALSE & E3\\\\\n\t L & 43.366271 & FALSE & E3\\\\\n\t M & 20.560555 & FALSE & E3\\\\\n\t W & 21.975678 & FALSE & E3\\\\\n\t J & 19.459000 &  TRUE & E3\\\\\n\t V & 17.949046 &  TRUE & E3\\\\\n\t S & 27.543669 & FALSE & E3\\\\\n\t D & 10.967262 &  TRUE & E3\\\\\n\t L & 21.726113 & FALSE & E3\\\\\n\t M & 27.771144 & FALSE & E3\\\\\n\t W & 18.380296 &  TRUE & E3\\\\\n\t J & 18.746347 &  TRUE & E3\\\\\n\t V & 22.974699 & FALSE & E3\\\\\n\t S & 23.528175 & FALSE & E3\\\\\n\t D & -1.230766 &  TRUE & E3\\\\\n\t L & 24.885479 & FALSE & E3\\\\\n\t M & 12.778953 &  TRUE & E3\\\\\n\t W & 24.890128 & FALSE & E3\\\\\n\t J & 25.374885 & FALSE & E3\\\\\n\t V & 26.785913 & FALSE & E3\\\\\n\t S & 17.612031 &  TRUE & E3\\\\\n\t D & 25.750895 & FALSE & E3\\\\\n\t L & 30.380064 & FALSE & E3\\\\\n\t M & 18.502655 &  TRUE & E3\\\\\n\\end{tabular}\n",
            "text/plain": [
              "    Dia_semana Temperatura Llueve Estacion\n",
              "1   L          28.047398   FALSE  E1      \n",
              "2   M          40.600749   FALSE  E1      \n",
              "3   W          34.177870   FALSE  E1      \n",
              "4   J          37.614694   FALSE  E1      \n",
              "5   V          28.147801   FALSE  E1      \n",
              "6   S           2.192955    TRUE  E1      \n",
              "7   D          26.597622   FALSE  E1      \n",
              "8   L           8.242464    TRUE  E1      \n",
              "9   M          23.973565   FALSE  E1      \n",
              "10  W          15.222881    TRUE  E1      \n",
              "11  J          15.057519    TRUE  E1      \n",
              "12  V          13.378974    TRUE  E1      \n",
              "13  S          34.996026   FALSE  E1      \n",
              "14  D          25.744968   FALSE  E1      \n",
              "15  L          31.089475   FALSE  E1      \n",
              "16  M          16.558664    TRUE  E1      \n",
              "17  W          15.943889    TRUE  E1      \n",
              "18  J          30.148004   FALSE  E1      \n",
              "19  V          14.272358    TRUE  E1      \n",
              "20  S          14.796715    TRUE  E1      \n",
              "21  D          26.151556   FALSE  E1      \n",
              "22  L          25.297946   FALSE  E1      \n",
              "23  M          17.973586    TRUE  E1      \n",
              "24  W          27.352739   FALSE  E1      \n",
              "25  J          41.177212   FALSE  E1      \n",
              "26  V          14.252425    TRUE  E1      \n",
              "27  S          14.802777    TRUE  E1      \n",
              "28  D          13.785511    TRUE  E1      \n",
              "29  L          17.876141    TRUE  E1      \n",
              "30  M          29.711650   FALSE  E1      \n",
              "⋮   ⋮          ⋮           ⋮      ⋮       \n",
              "71  L          18.354159    TRUE  E3      \n",
              "72  M          23.134509   FALSE  E3      \n",
              "73  W          24.375969   FALSE  E3      \n",
              "74  J          19.767400    TRUE  E3      \n",
              "75  V          19.308526    TRUE  E3      \n",
              "76  S          17.559938    TRUE  E3      \n",
              "77  D          21.313193   FALSE  E3      \n",
              "78  L          43.366271   FALSE  E3      \n",
              "79  M          20.560555   FALSE  E3      \n",
              "80  W          21.975678   FALSE  E3      \n",
              "81  J          19.459000    TRUE  E3      \n",
              "82  V          17.949046    TRUE  E3      \n",
              "83  S          27.543669   FALSE  E3      \n",
              "84  D          10.967262    TRUE  E3      \n",
              "85  L          21.726113   FALSE  E3      \n",
              "86  M          27.771144   FALSE  E3      \n",
              "87  W          18.380296    TRUE  E3      \n",
              "88  J          18.746347    TRUE  E3      \n",
              "89  V          22.974699   FALSE  E3      \n",
              "90  S          23.528175   FALSE  E3      \n",
              "91  D          -1.230766    TRUE  E3      \n",
              "92  L          24.885479   FALSE  E3      \n",
              "93  M          12.778953    TRUE  E3      \n",
              "94  W          24.890128   FALSE  E3      \n",
              "95  J          25.374885   FALSE  E3      \n",
              "96  V          26.785913   FALSE  E3      \n",
              "97  S          17.612031    TRUE  E3      \n",
              "98  D          25.750895   FALSE  E3      \n",
              "99  L          30.380064   FALSE  E3      \n",
              "100 M          18.502655    TRUE  E3      "
            ]
          },
          "metadata": {}
        }
      ]
    },
    {
      "cell_type": "markdown",
      "metadata": {
        "id": "_4pmC4cBm5as"
      },
      "source": [
        "### Formato RData\n",
        "\n",
        "Cuando se quiere guardar el ambiente de trabajo completo, o bien un mayor número de objetos ya creados, se puede utilizar la función _save_\n"
      ]
    },
    {
      "cell_type": "code",
      "metadata": {
        "trusted": true,
        "id": "M5yFyJ27m5at"
      },
      "source": [
        "# Función save para guardar uno o más objetos del ambiente.\n",
        "\n",
        "save(temp,precipitaciones,dia, file = \"../ambiente1.RData\")\n"
      ],
      "execution_count": null,
      "outputs": []
    },
    {
      "cell_type": "code",
      "metadata": {
        "trusted": true,
        "id": "YDmd1Npmm5ay",
        "outputId": "18574d00-3e49-4136-92b0-9a032f2a0da0",
        "colab": {
          "base_uri": "https://localhost:8080/",
          "height": 34
        }
      },
      "source": [
        "# Eventualmente podemos \"cargar \" a sesión, con la función load()\n",
        "rm(list = ls())\n",
        "load(\"../ambiente1.RData\")\n",
        "ls()"
      ],
      "execution_count": null,
      "outputs": [
        {
          "output_type": "display_data",
          "data": {
            "text/html": [
              "<style>\n",
              ".list-inline {list-style: none; margin:0; padding: 0}\n",
              ".list-inline>li {display: inline-block}\n",
              ".list-inline>li:not(:last-child)::after {content: \"\\00b7\"; padding: 0 .5ex}\n",
              "</style>\n",
              "<ol class=list-inline><li>'dia'</li><li>'precipitaciones'</li><li>'temp'</li></ol>\n"
            ],
            "text/markdown": "1. 'dia'\n2. 'precipitaciones'\n3. 'temp'\n\n\n",
            "text/latex": "\\begin{enumerate*}\n\\item 'dia'\n\\item 'precipitaciones'\n\\item 'temp'\n\\end{enumerate*}\n",
            "text/plain": [
              "[1] \"dia\"             \"precipitaciones\" \"temp\"           "
            ]
          },
          "metadata": {}
        }
      ]
    }
  ]
}